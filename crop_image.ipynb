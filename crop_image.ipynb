{
  "nbformat": 4,
  "nbformat_minor": 0,
  "metadata": {
    "colab": {
      "provenance": [],
      "mount_file_id": "1HA4IcOdFPM-N9nw48uTBkjmBeooFFfdO",
      "authorship_tag": "ABX9TyOYbNZg880eAsh44Z6er8Gc",
      "include_colab_link": true
    },
    "kernelspec": {
      "name": "python3",
      "display_name": "Python 3"
    },
    "language_info": {
      "name": "python"
    }
  },
  "cells": [
    {
      "cell_type": "markdown",
      "metadata": {
        "id": "view-in-github",
        "colab_type": "text"
      },
      "source": [
        "<a href=\"https://colab.research.google.com/github/Daniel-Sottovia/PayFace_Daniel/blob/main/crop_image.ipynb\" target=\"_parent\"><img src=\"https://colab.research.google.com/assets/colab-badge.svg\" alt=\"Open In Colab\"/></a>"
      ]
    },
    {
      "cell_type": "markdown",
      "source": [
        "# MediaPipe to crop a face"
      ],
      "metadata": {
        "id": "TKPHL_46elwM"
      }
    },
    {
      "cell_type": "code",
      "source": [
        "!pip install mediapipe"
      ],
      "metadata": {
        "colab": {
          "base_uri": "https://localhost:8080/"
        },
        "id": "Nv9CkN5Lea0c",
        "outputId": "f5c65887-60e6-4bf5-a73f-db433410f181"
      },
      "execution_count": 3,
      "outputs": [
        {
          "output_type": "stream",
          "name": "stdout",
          "text": [
            "Looking in indexes: https://pypi.org/simple, https://us-python.pkg.dev/colab-wheels/public/simple/\n",
            "Collecting mediapipe\n",
            "  Downloading mediapipe-0.9.0.1-cp38-cp38-manylinux_2_17_x86_64.manylinux2014_x86_64.whl (33.0 MB)\n",
            "\u001b[2K     \u001b[90m━━━━━━━━━━━━━━━━━━━━━━━━━━━━━━━━━━━━━━━━\u001b[0m \u001b[32m33.0/33.0 MB\u001b[0m \u001b[31m37.0 MB/s\u001b[0m eta \u001b[36m0:00:00\u001b[0m\n",
            "\u001b[?25hRequirement already satisfied: numpy in /usr/local/lib/python3.8/dist-packages (from mediapipe) (1.21.6)\n",
            "Requirement already satisfied: opencv-contrib-python in /usr/local/lib/python3.8/dist-packages (from mediapipe) (4.6.0.66)\n",
            "Requirement already satisfied: matplotlib in /usr/local/lib/python3.8/dist-packages (from mediapipe) (3.2.2)\n",
            "Collecting flatbuffers>=2.0\n",
            "  Downloading flatbuffers-23.1.4-py2.py3-none-any.whl (26 kB)\n",
            "Requirement already satisfied: attrs>=19.1.0 in /usr/local/lib/python3.8/dist-packages (from mediapipe) (22.2.0)\n",
            "Requirement already satisfied: absl-py in /usr/local/lib/python3.8/dist-packages (from mediapipe) (1.3.0)\n",
            "Requirement already satisfied: protobuf<4,>=3.11 in /usr/local/lib/python3.8/dist-packages (from mediapipe) (3.19.6)\n",
            "Requirement already satisfied: python-dateutil>=2.1 in /usr/local/lib/python3.8/dist-packages (from matplotlib->mediapipe) (2.8.2)\n",
            "Requirement already satisfied: pyparsing!=2.0.4,!=2.1.2,!=2.1.6,>=2.0.1 in /usr/local/lib/python3.8/dist-packages (from matplotlib->mediapipe) (3.0.9)\n",
            "Requirement already satisfied: kiwisolver>=1.0.1 in /usr/local/lib/python3.8/dist-packages (from matplotlib->mediapipe) (1.4.4)\n",
            "Requirement already satisfied: cycler>=0.10 in /usr/local/lib/python3.8/dist-packages (from matplotlib->mediapipe) (0.11.0)\n",
            "Requirement already satisfied: six>=1.5 in /usr/local/lib/python3.8/dist-packages (from python-dateutil>=2.1->matplotlib->mediapipe) (1.15.0)\n",
            "Installing collected packages: flatbuffers, mediapipe\n",
            "  Attempting uninstall: flatbuffers\n",
            "    Found existing installation: flatbuffers 1.12\n",
            "    Uninstalling flatbuffers-1.12:\n",
            "      Successfully uninstalled flatbuffers-1.12\n",
            "\u001b[31mERROR: pip's dependency resolver does not currently take into account all the packages that are installed. This behaviour is the source of the following dependency conflicts.\n",
            "tensorflow 2.9.2 requires flatbuffers<2,>=1.12, but you have flatbuffers 23.1.4 which is incompatible.\u001b[0m\u001b[31m\n",
            "\u001b[0mSuccessfully installed flatbuffers-23.1.4 mediapipe-0.9.0.1\n"
          ]
        }
      ]
    },
    {
      "cell_type": "code",
      "execution_count": 4,
      "metadata": {
        "id": "0JKaYL0IQZDY"
      },
      "outputs": [],
      "source": [
        "import cv2\n",
        "from google.colab.patches import cv2_imshow \n",
        "import math\n",
        "import numpy as np\n",
        "\n",
        "DESIRED_HEIGHT = 480\n",
        "DESIRED_WIDTH = 480\n",
        "def resize_and_show(image):\n",
        "  h, w = image.shape[:2]\n",
        "  if h < w:\n",
        "    img = cv2.resize(image, (DESIRED_WIDTH, math.floor(h/(w/DESIRED_WIDTH))))\n",
        "  else:\n",
        "    img = cv2.resize(image, (math.floor(w/(h/DESIRED_HEIGHT)), DESIRED_HEIGHT))\n",
        "  cv2_imshow(img)"
      ]
    },
    {
      "cell_type": "code",
      "source": [
        "import mediapipe as mp\n",
        "mp_face_detection = mp.solutions.face_detection\n",
        "\n",
        "#help(mp_face_detection.FaceDetection)"
      ],
      "metadata": {
        "id": "BaHLL9lveTRR"
      },
      "execution_count": 5,
      "outputs": []
    },
    {
      "cell_type": "code",
      "source": [
        "from mediapipe.python.solutions.drawing_utils import _normalized_to_pixel_coordinates"
      ],
      "metadata": {
        "id": "7jg_WYSNeXYq"
      },
      "execution_count": 6,
      "outputs": []
    },
    {
      "cell_type": "code",
      "source": [
        "def face_crop(image):  \n",
        "  with mp_face_detection.FaceDetection(min_detection_confidence=0.5, model_selection=0) as face_detection:\n",
        "      # Convert the BGR image to RGB and process it with MediaPipe Face Detection.\n",
        "      image_rows, image_cols = image.shape[:2]\n",
        "      results = face_detection.process(cv2.cvtColor(image, cv2.COLOR_BGR2RGB))\n",
        "\n",
        "      if not results.detections:\n",
        "          return [[[None]]]\n",
        "      # Draw face detections of each face.\n",
        "      # print(f'Face detections of {name}:')\n",
        "\n",
        "      annotated_image = image.copy()\n",
        "      for detection in results.detections:\n",
        "          # print(detection.score) # Indica a certeza de ter achado o rosto\n",
        "          location = detection.location_data\n",
        "          relative_bounding_box = location.relative_bounding_box\n",
        "          rect_start_point = _normalized_to_pixel_coordinates(relative_bounding_box.xmin, relative_bounding_box.ymin, image_cols,image_rows)\n",
        "          rect_end_point = _normalized_to_pixel_coordinates(relative_bounding_box.xmin + relative_bounding_box.width, relative_bounding_box.ymin + relative_bounding_box.height, image_cols,image_rows)\n",
        "          \n",
        "          # print(rect_start_point) \n",
        "          # print(rect_end_point)\n",
        "          # crop_img = img[y:y+h, x:x+w] Para lembrar como é a entrada dos dados\n",
        "          # crop_image = annotated_image[rect_start_point[1]:rect_end_point[1], rect_start_point[0]:rect_end_point[0]]\n",
        "\n",
        "          try: \n",
        "            crop_image = annotated_image[rect_start_point[1]:rect_end_point[1], rect_start_point[0]:rect_end_point[0]]\n",
        "          except Exception:\n",
        "            #print(f'No Face Detection in {name}')\n",
        "            return [[[None]]]\n",
        "          # Draw face detections of each face.\n",
        "          #print(f'Face detections of {name}:')\n",
        "\n",
        "          return crop_image\n"
      ],
      "metadata": {
        "id": "H8ba9FUzehys"
      },
      "execution_count": 28,
      "outputs": []
    },
    {
      "cell_type": "markdown",
      "source": [
        "# Selecionar imagens da pasta -> recorta a imagem -> salva a imagem"
      ],
      "metadata": {
        "id": "0kpgjHRxewSB"
      }
    },
    {
      "cell_type": "code",
      "source": [
        "from google.colab.patches import cv2_imshow"
      ],
      "metadata": {
        "id": "RM-wOCTghkBR"
      },
      "execution_count": 24,
      "outputs": []
    },
    {
      "cell_type": "code",
      "source": [
        "from PIL import Image\n",
        "import cv2\n",
        "import glob\n",
        "image_list = []\n",
        "for filename in glob.glob('/content/drive/MyDrive/Liveness_Daniel/CNN/msu/test/attack/*.png'): \n",
        "    #im=Image.open(filename)\n",
        "    im = cv2.imread(filename)\n",
        "    crop_face = face_crop(im)\n",
        "    cv2.imwrite(filename, crop_face)\n",
        "    image_list.append(crop_face)\n",
        "\n",
        "# for i in range(0,20):\n",
        "#   print(i)\n",
        "#   cv2_imshow(image_list[i])"
      ],
      "metadata": {
        "id": "mDPiG18QekOt"
      },
      "execution_count": 32,
      "outputs": []
    },
    {
      "cell_type": "code",
      "source": [
        "for filename in glob.glob('/content/drive/MyDrive/Liveness_Daniel/CNN/msu/test/real/*.png'): \n",
        "    #im=Image.open(filename)\n",
        "    im = cv2.imread(filename)\n",
        "    crop_face = face_crop(im)\n",
        "    cv2.imwrite(filename, crop_face)\n",
        "    image_list.append(crop_face)"
      ],
      "metadata": {
        "id": "zA0UUIW0faKH"
      },
      "execution_count": 33,
      "outputs": []
    },
    {
      "cell_type": "code",
      "source": [
        "for filename in glob.glob('/content/drive/MyDrive/Liveness_Daniel/CNN/msu/train/attack/*.png'): \n",
        "    #im=Image.open(filename)\n",
        "    im = cv2.imread(filename)\n",
        "    crop_face = face_crop(im)\n",
        "    cv2.imwrite(filename, crop_face)\n",
        "    image_list.append(crop_face)"
      ],
      "metadata": {
        "id": "iUloqUmHlHX_"
      },
      "execution_count": 34,
      "outputs": []
    },
    {
      "cell_type": "code",
      "source": [
        "for filename in glob.glob('/content/drive/MyDrive/Liveness_Daniel/CNN/msu/train/real/*.png'): \n",
        "    #im=Image.open(filename)\n",
        "    im = cv2.imread(filename)\n",
        "    crop_face = face_crop(im)\n",
        "    cv2.imwrite(filename, crop_face)\n",
        "    image_list.append(crop_face)"
      ],
      "metadata": {
        "id": "1HT6lksglNWF"
      },
      "execution_count": 35,
      "outputs": []
    }
  ]
}