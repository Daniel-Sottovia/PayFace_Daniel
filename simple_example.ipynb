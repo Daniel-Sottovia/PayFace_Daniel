{
  "nbformat": 4,
  "nbformat_minor": 0,
  "metadata": {
    "colab": {
      "provenance": [],
      "mount_file_id": "1jmdhtC5V9jMBg_jKU-l4dZaY03dQNwyT",
      "authorship_tag": "ABX9TyPL3X6uM2V3XK5t3gM9PtuH",
      "include_colab_link": true
    },
    "kernelspec": {
      "name": "python3",
      "display_name": "Python 3"
    },
    "language_info": {
      "name": "python"
    }
  },
  "cells": [
    {
      "cell_type": "markdown",
      "metadata": {
        "id": "view-in-github",
        "colab_type": "text"
      },
      "source": [
        "<a href=\"https://colab.research.google.com/github/Daniel-Sottovia/PayFace_Daniel/blob/main/simple_example.ipynb\" target=\"_parent\"><img src=\"https://colab.research.google.com/assets/colab-badge.svg\" alt=\"Open In Colab\"/></a>"
      ]
    },
    {
      "cell_type": "markdown",
      "source": [
        "# Exemplo 1\n"
      ],
      "metadata": {
        "id": "PYRS8SMIzt4x"
      }
    },
    {
      "cell_type": "markdown",
      "source": [
        "Link: https://keras.io/api/applications/#usage-examples-for-image-classification-models"
      ],
      "metadata": {
        "id": "QEad63JWztYV"
      }
    },
    {
      "cell_type": "code",
      "execution_count": null,
      "metadata": {
        "id": "6-Eq-3LKyZz9"
      },
      "outputs": [],
      "source": [
        "from tensorflow.keras.applications.vgg16 import VGG16\n",
        "from tensorflow.keras.preprocessing import image\n",
        "from tensorflow.keras.applications.vgg16 import preprocess_input\n",
        "import numpy as np\n",
        "\n",
        "model = VGG16(weights='imagenet', include_top=True)"
      ]
    },
    {
      "cell_type": "code",
      "source": [
        "img_path = '/content/drive/MyDrive/Liveness_Daniel/CNN/exemplos/elefante-asiatico.jpg'\n",
        "img = image.load_img(img_path, target_size=(224, 224))\n",
        "x = image.img_to_array(img)\n",
        "x = np.expand_dims(x, axis=0)\n",
        "x = preprocess_input(x)\n",
        "\n",
        "features = model.predict(x)"
      ],
      "metadata": {
        "colab": {
          "base_uri": "https://localhost:8080/"
        },
        "id": "N3WPz9jAz7-T",
        "outputId": "eec3aae0-11d1-458c-8be0-573ea8575f73"
      },
      "execution_count": null,
      "outputs": [
        {
          "output_type": "stream",
          "name": "stdout",
          "text": [
            "1/1 [==============================] - 1s 783ms/step\n"
          ]
        }
      ]
    },
    {
      "cell_type": "code",
      "source": [
        "# decode the results into a list of tuples (class, description, probability)\n",
        "# (one such list for each sample in the batch)\n",
        "print('Predicted:', features.shape)"
      ],
      "metadata": {
        "colab": {
          "base_uri": "https://localhost:8080/"
        },
        "id": "NPzhX87B1OHz",
        "outputId": "65dbe36e-8606-4a49-8fd6-d0d94129de64"
      },
      "execution_count": null,
      "outputs": [
        {
          "output_type": "stream",
          "name": "stdout",
          "text": [
            "Predicted: (1, 1000)\n"
          ]
        }
      ]
    },
    {
      "cell_type": "code",
      "source": [
        "from tensorflow.keras.applications.vgg16 import decode_predictions\n",
        "# convert the probabilities to class labels\n",
        "label = decode_predictions(features)\n",
        "# retrieve the most likely result, e.g. highest probability\n",
        "label = label[0][0]\n",
        "# print the classification\n",
        "print('%s (%.2f%%)' % (label[1], label[2]*100))"
      ],
      "metadata": {
        "colab": {
          "base_uri": "https://localhost:8080/"
        },
        "id": "dCGr8rG21PoP",
        "outputId": "4b0fec79-97bf-495c-c152-e4c8df06174c"
      },
      "execution_count": null,
      "outputs": [
        {
          "output_type": "stream",
          "name": "stdout",
          "text": [
            "tusker (59.22%)\n"
          ]
        }
      ]
    },
    {
      "cell_type": "markdown",
      "source": [
        "# Exemplo 2"
      ],
      "metadata": {
        "id": "yyuRNFce4tl9"
      }
    },
    {
      "cell_type": "markdown",
      "source": [
        "Link: https://machinelearningmastery.com/use-pre-trained-vgg-model-classify-objects-photographs/"
      ],
      "metadata": {
        "id": "yDpJoQ1R7P5b"
      }
    },
    {
      "cell_type": "code",
      "source": [
        "from tensorflow.keras.preprocessing.image import load_img\n",
        "from tensorflow.keras.preprocessing.image import img_to_array\n",
        "from tensorflow.keras.applications.vgg16 import preprocess_input\n",
        "from tensorflow.keras.applications.vgg16 import decode_predictions\n",
        "from tensorflow.keras.applications.vgg16 import VGG16"
      ],
      "metadata": {
        "id": "asYbKfv354kR"
      },
      "execution_count": null,
      "outputs": []
    },
    {
      "cell_type": "code",
      "source": [
        "# load the model\n",
        "model = VGG16()"
      ],
      "metadata": {
        "id": "lGlUmHGb6GR6"
      },
      "execution_count": null,
      "outputs": []
    },
    {
      "cell_type": "code",
      "source": [
        "# load an image from file\n",
        "image = load_img('/content/drive/MyDrive/Liveness_Daniel/CNN/exemplos/coffee-mug-on-the-desk-free-photo.jpg', target_size=(224, 224))"
      ],
      "metadata": {
        "id": "tse3WhOd6I8L"
      },
      "execution_count": null,
      "outputs": []
    },
    {
      "cell_type": "code",
      "source": [
        "# convert the image pixels to a numpy array\n",
        "image = img_to_array(image)\n",
        "# reshape data for the model\n",
        "image = image.reshape((1, image.shape[0], image.shape[1], image.shape[2]))\n",
        "# prepare the image for the VGG model\n",
        "image = preprocess_input(image)"
      ],
      "metadata": {
        "id": "ZylNeK_W6P_d"
      },
      "execution_count": null,
      "outputs": []
    },
    {
      "cell_type": "code",
      "source": [
        "# predict the probability across all output classes\n",
        "yhat = model.predict(image)"
      ],
      "metadata": {
        "colab": {
          "base_uri": "https://localhost:8080/"
        },
        "id": "WNiLT9iA6UDB",
        "outputId": "991bccc8-bd40-4c84-e1fb-d45dbe5bdfaf"
      },
      "execution_count": null,
      "outputs": [
        {
          "output_type": "stream",
          "name": "stdout",
          "text": [
            "1/1 [==============================] - 1s 778ms/step\n"
          ]
        }
      ]
    },
    {
      "cell_type": "code",
      "source": [
        "# convert the probabilities to class labels\n",
        "label = decode_predictions(yhat)\n",
        "# retrieve the most likely result, e.g. highest probability\n",
        "label = label[0][0]\n",
        "# print the classification\n",
        "print('%s (%.2f%%)' % (label[1], label[2]*100))"
      ],
      "metadata": {
        "colab": {
          "base_uri": "https://localhost:8080/"
        },
        "id": "sNu7bZ2n6ZDv",
        "outputId": "2a3b8f40-2280-4f07-d7dc-7d3cc0bd3692"
      },
      "execution_count": null,
      "outputs": [
        {
          "output_type": "stream",
          "name": "stdout",
          "text": [
            "cup (48.40%)\n"
          ]
        }
      ]
    },
    {
      "cell_type": "markdown",
      "source": [
        "# Exemplo 3"
      ],
      "metadata": {
        "id": "r_rK9JuF6kxr"
      }
    },
    {
      "cell_type": "markdown",
      "source": [
        "Link: https://ai.plainenglish.io/beginners-guide-to-transfer-learning-with-simple-example-using-vgg16-61040c095ab9"
      ],
      "metadata": {
        "id": "3pC-Ocps7B2L"
      }
    },
    {
      "cell_type": "code",
      "source": [
        "from tensorflow.keras.applications.vgg16 import VGG16\n",
        "model = VGG16()"
      ],
      "metadata": {
        "id": "BY0Nkm7C7S8z",
        "colab": {
          "base_uri": "https://localhost:8080/"
        },
        "outputId": "9303c646-4512-4f43-80fe-70c27356feb7"
      },
      "execution_count": null,
      "outputs": [
        {
          "output_type": "stream",
          "name": "stdout",
          "text": [
            "Downloading data from https://storage.googleapis.com/tensorflow/keras-applications/vgg16/vgg16_weights_tf_dim_ordering_tf_kernels.h5\n",
            "553467096/553467096 [==============================] - 5s 0us/step\n"
          ]
        }
      ]
    },
    {
      "cell_type": "code",
      "source": [
        "\n",
        "from tensorflow.keras.utils import plot_model\n",
        "print(model.summary())\n",
        "plot_model(model, to_file='vgg.png')"
      ],
      "metadata": {
        "id": "mV1v7Le97YLZ",
        "colab": {
          "base_uri": "https://localhost:8080/",
          "height": 1000
        },
        "outputId": "22572328-3957-4579-fae8-80fb1cc47896"
      },
      "execution_count": null,
      "outputs": [
        {
          "output_type": "stream",
          "name": "stdout",
          "text": [
            "Model: \"vgg16\"\n",
            "_________________________________________________________________\n",
            " Layer (type)                Output Shape              Param #   \n",
            "=================================================================\n",
            " input_1 (InputLayer)        [(None, 224, 224, 3)]     0         \n",
            "                                                                 \n",
            " block1_conv1 (Conv2D)       (None, 224, 224, 64)      1792      \n",
            "                                                                 \n",
            " block1_conv2 (Conv2D)       (None, 224, 224, 64)      36928     \n",
            "                                                                 \n",
            " block1_pool (MaxPooling2D)  (None, 112, 112, 64)      0         \n",
            "                                                                 \n",
            " block2_conv1 (Conv2D)       (None, 112, 112, 128)     73856     \n",
            "                                                                 \n",
            " block2_conv2 (Conv2D)       (None, 112, 112, 128)     147584    \n",
            "                                                                 \n",
            " block2_pool (MaxPooling2D)  (None, 56, 56, 128)       0         \n",
            "                                                                 \n",
            " block3_conv1 (Conv2D)       (None, 56, 56, 256)       295168    \n",
            "                                                                 \n",
            " block3_conv2 (Conv2D)       (None, 56, 56, 256)       590080    \n",
            "                                                                 \n",
            " block3_conv3 (Conv2D)       (None, 56, 56, 256)       590080    \n",
            "                                                                 \n",
            " block3_pool (MaxPooling2D)  (None, 28, 28, 256)       0         \n",
            "                                                                 \n",
            " block4_conv1 (Conv2D)       (None, 28, 28, 512)       1180160   \n",
            "                                                                 \n",
            " block4_conv2 (Conv2D)       (None, 28, 28, 512)       2359808   \n",
            "                                                                 \n",
            " block4_conv3 (Conv2D)       (None, 28, 28, 512)       2359808   \n",
            "                                                                 \n",
            " block4_pool (MaxPooling2D)  (None, 14, 14, 512)       0         \n",
            "                                                                 \n",
            " block5_conv1 (Conv2D)       (None, 14, 14, 512)       2359808   \n",
            "                                                                 \n",
            " block5_conv2 (Conv2D)       (None, 14, 14, 512)       2359808   \n",
            "                                                                 \n",
            " block5_conv3 (Conv2D)       (None, 14, 14, 512)       2359808   \n",
            "                                                                 \n",
            " block5_pool (MaxPooling2D)  (None, 7, 7, 512)         0         \n",
            "                                                                 \n",
            " flatten (Flatten)           (None, 25088)             0         \n",
            "                                                                 \n",
            " fc1 (Dense)                 (None, 4096)              102764544 \n",
            "                                                                 \n",
            " fc2 (Dense)                 (None, 4096)              16781312  \n",
            "                                                                 \n",
            " predictions (Dense)         (None, 1000)              4097000   \n",
            "                                                                 \n",
            "=================================================================\n",
            "Total params: 138,357,544\n",
            "Trainable params: 138,357,544\n",
            "Non-trainable params: 0\n",
            "_________________________________________________________________\n",
            "None\n"
          ]
        },
        {
          "output_type": "execute_result",
          "data": {
            "image/png": "[encoded data removed]",
            "text/plain": [
              "<IPython.core.display.Image object>"
            ]
          },
          "metadata": {},
          "execution_count": 10
        }
      ]
    },
    {
      "cell_type": "code",
      "source": [
        "from tensorflow.keras.preprocessing.image import load_img\n",
        "from tensorflow.keras.preprocessing.image import img_to_array\n",
        "from tensorflow.keras.applications.vgg16 import preprocess_input\n",
        "image = load_img('/content/drive/MyDrive/Liveness_Daniel/CNN/exemplos/esquilo.jpg', target_size=(224, 224)) #Load image\n",
        "image = img_to_array(image) # Convert to numpy array\n",
        "image = image.reshape((1, image.shape[0], image.shape[1], image.shape[2])) # reshape data for the model\n",
        "image = preprocess_input(image) # prepare the image for the VGG model"
      ],
      "metadata": {
        "id": "bX77diCI7dG3"
      },
      "execution_count": null,
      "outputs": []
    },
    {
      "cell_type": "code",
      "source": [
        "from tensorflow.keras.applications.vgg16 import decode_predictions\n",
        "yhat = model.predict(image)\n",
        "label = decode_predictions(yhat)    # convert the probabilities to class labels\n",
        "label = label[0][0]                  # retrieve the most likely result, e.g. highest probability\n",
        "print('%s (%.2f%%)' % (label[1], label[2]*100))    # print the classification"
      ],
      "metadata": {
        "colab": {
          "base_uri": "https://localhost:8080/"
        },
        "id": "TNrPTP1C8gyd",
        "outputId": "3b892f87-ad95-4063-98f2-72a7e731b9d1"
      },
      "execution_count": null,
      "outputs": [
        {
          "output_type": "stream",
          "name": "stdout",
          "text": [
            "1/1 [==============================] - 1s 771ms/step\n",
            "Downloading data from https://storage.googleapis.com/download.tensorflow.org/data/imagenet_class_index.json\n",
            "35363/35363 [==============================] - 0s 0us/step\n",
            "fox_squirrel (97.39%)\n"
          ]
        }
      ]
    },
    {
      "cell_type": "markdown",
      "source": [
        "# Exemplo 4"
      ],
      "metadata": {
        "id": "gGK1Iddt_zoA"
      }
    },
    {
      "cell_type": "markdown",
      "source": [
        "Link: https://www.kaggle.com/code/loaiabdalslam/vgg16-layers-visualization-tutorial/notebook"
      ],
      "metadata": {
        "id": "V4sD-5bO_3vJ"
      }
    },
    {
      "cell_type": "code",
      "source": [
        "# load vgg model\n",
        "from tensorflow.keras.applications.vgg16 import VGG16\n",
        "# load the model\n",
        "model = VGG16()\n",
        "# summarize the model\n",
        "model.summary()"
      ],
      "metadata": {
        "colab": {
          "base_uri": "https://localhost:8080/"
        },
        "id": "C8w3MoSQ_6sd",
        "outputId": "e26de40a-bf9f-4b05-8be0-4082b3303c40"
      },
      "execution_count": null,
      "outputs": [
        {
          "output_type": "stream",
          "name": "stdout",
          "text": [
            "Model: \"vgg16\"\n",
            "_________________________________________________________________\n",
            " Layer (type)                Output Shape              Param #   \n",
            "=================================================================\n",
            " input_5 (InputLayer)        [(None, 224, 224, 3)]     0         \n",
            "                                                                 \n",
            " block1_conv1 (Conv2D)       (None, 224, 224, 64)      1792      \n",
            "                                                                 \n",
            " block1_conv2 (Conv2D)       (None, 224, 224, 64)      36928     \n",
            "                                                                 \n",
            " block1_pool (MaxPooling2D)  (None, 112, 112, 64)      0         \n",
            "                                                                 \n",
            " block2_conv1 (Conv2D)       (None, 112, 112, 128)     73856     \n",
            "                                                                 \n",
            " block2_conv2 (Conv2D)       (None, 112, 112, 128)     147584    \n",
            "                                                                 \n",
            " block2_pool (MaxPooling2D)  (None, 56, 56, 128)       0         \n",
            "                                                                 \n",
            " block3_conv1 (Conv2D)       (None, 56, 56, 256)       295168    \n",
            "                                                                 \n",
            " block3_conv2 (Conv2D)       (None, 56, 56, 256)       590080    \n",
            "                                                                 \n",
            " block3_conv3 (Conv2D)       (None, 56, 56, 256)       590080    \n",
            "                                                                 \n",
            " block3_pool (MaxPooling2D)  (None, 28, 28, 256)       0         \n",
            "                                                                 \n",
            " block4_conv1 (Conv2D)       (None, 28, 28, 512)       1180160   \n",
            "                                                                 \n",
            " block4_conv2 (Conv2D)       (None, 28, 28, 512)       2359808   \n",
            "                                                                 \n",
            " block4_conv3 (Conv2D)       (None, 28, 28, 512)       2359808   \n",
            "                                                                 \n",
            " block4_pool (MaxPooling2D)  (None, 14, 14, 512)       0         \n",
            "                                                                 \n",
            " block5_conv1 (Conv2D)       (None, 14, 14, 512)       2359808   \n",
            "                                                                 \n",
            " block5_conv2 (Conv2D)       (None, 14, 14, 512)       2359808   \n",
            "                                                                 \n",
            " block5_conv3 (Conv2D)       (None, 14, 14, 512)       2359808   \n",
            "                                                                 \n",
            " block5_pool (MaxPooling2D)  (None, 7, 7, 512)         0         \n",
            "                                                                 \n",
            " flatten (Flatten)           (None, 25088)             0         \n",
            "                                                                 \n",
            " fc1 (Dense)                 (None, 4096)              102764544 \n",
            "                                                                 \n",
            " fc2 (Dense)                 (None, 4096)              16781312  \n",
            "                                                                 \n",
            " predictions (Dense)         (None, 1000)              4097000   \n",
            "                                                                 \n",
            "=================================================================\n",
            "Total params: 138,357,544\n",
            "Trainable params: 138,357,544\n",
            "Non-trainable params: 0\n",
            "_________________________________________________________________\n"
          ]
        }
      ]
    },
    {
      "cell_type": "code",
      "source": [
        "# summarize filter shapes\n",
        "for layer in model.layers:\n",
        "    # check for convolutional layer\n",
        "    print(layer.name)\n",
        "    if 'conv' not in layer.name:\n",
        "        continue"
      ],
      "metadata": {
        "colab": {
          "base_uri": "https://localhost:8080/"
        },
        "id": "Iu3r8JUN__bS",
        "outputId": "ec4bbdc5-50dc-4894-8748-00a7994d7e6f"
      },
      "execution_count": null,
      "outputs": [
        {
          "output_type": "stream",
          "name": "stdout",
          "text": [
            "input_5\n",
            "block1_conv1\n",
            "block1_conv2\n",
            "block1_pool\n",
            "block2_conv1\n",
            "block2_conv2\n",
            "block2_pool\n",
            "block3_conv1\n",
            "block3_conv2\n",
            "block3_conv3\n",
            "block3_pool\n",
            "block4_conv1\n",
            "block4_conv2\n",
            "block4_conv3\n",
            "block4_pool\n",
            "block5_conv1\n",
            "block5_conv2\n",
            "block5_conv3\n",
            "block5_pool\n",
            "flatten\n",
            "fc1\n",
            "fc2\n",
            "predictions\n"
          ]
        }
      ]
    },
    {
      "cell_type": "code",
      "source": [
        "# summarize filters in each convolutional layer\n",
        "from tensorflow.keras.applications.vgg16 import VGG16\n",
        "from matplotlib import pyplot\n",
        "# load the model\n",
        "model = VGG16()\n",
        "# summarize filter shapes\n",
        "for layer in model.layers:\n",
        "\t# check for convolutional layer\n",
        "\tif 'conv' not in layer.name:\n",
        "\t\tcontinue\n",
        "\t# get filter weights\n",
        "\tfilters, biases = layer.get_weights()\n",
        "\tprint(layer.name, filters.shape)"
      ],
      "metadata": {
        "colab": {
          "base_uri": "https://localhost:8080/"
        },
        "id": "H0jV7vTFBOOQ",
        "outputId": "ed718f48-5a50-43c1-87d3-f6e387aff5ee"
      },
      "execution_count": null,
      "outputs": [
        {
          "output_type": "stream",
          "name": "stdout",
          "text": [
            "block1_conv1 (3, 3, 3, 64)\n",
            "block1_conv2 (3, 3, 64, 64)\n",
            "block2_conv1 (3, 3, 64, 128)\n",
            "block2_conv2 (3, 3, 128, 128)\n",
            "block3_conv1 (3, 3, 128, 256)\n",
            "block3_conv2 (3, 3, 256, 256)\n",
            "block3_conv3 (3, 3, 256, 256)\n",
            "block4_conv1 (3, 3, 256, 512)\n",
            "block4_conv2 (3, 3, 512, 512)\n",
            "block4_conv3 (3, 3, 512, 512)\n",
            "block5_conv1 (3, 3, 512, 512)\n",
            "block5_conv2 (3, 3, 512, 512)\n",
            "block5_conv3 (3, 3, 512, 512)\n"
          ]
        }
      ]
    },
    {
      "cell_type": "code",
      "source": [],
      "metadata": {
        "id": "dkKywEkGBXGR"
      },
      "execution_count": null,
      "outputs": []
    },
    {
      "cell_type": "markdown",
      "source": [
        "# Exemplo 5"
      ],
      "metadata": {
        "id": "QGHazQnzyAm-"
      }
    },
    {
      "cell_type": "markdown",
      "source": [
        "**Link** : https://github.com/ashushekar/VGG16"
      ],
      "metadata": {
        "id": "YR0xIxv2BgPc"
      }
    },
    {
      "cell_type": "code",
      "source": [
        "import numpy as np\n",
        "import keras\n",
        "import tensorflow as tf\n",
        "import matplotlib.pyplot as plt\n",
        "from tensorflow.keras.applications.vgg16 import VGG16, preprocess_input\n",
        "from tensorflow.keras.models import Model\n",
        "from tensorflow.keras.layers import Conv2D, Dense, Flatten, MaxPool2D, Dropout\n",
        "from tensorflow.keras.models import Sequential, load_model\n",
        "from tensorflow.keras.optimizers import Adam\n",
        "from tensorflow.keras.preprocessing import image\n",
        "from tensorflow.keras.preprocessing.image import ImageDataGenerator\n",
        "from tensorflow.keras.callbacks import ModelCheckpoint, EarlyStopping\n",
        "from tensorflow.python.keras.backend import get_session, set_session"
      ],
      "metadata": {
        "id": "RlkvmvUvyCu9"
      },
      "execution_count": null,
      "outputs": []
    },
    {
      "cell_type": "code",
      "source": [
        "trdata = ImageDataGenerator()\n",
        "traindata = trdata.flow_from_directory(directory=\"/content/drive/MyDrive/Liveness_Daniel/CNN/dogs_vs_cats/train\",target_size=(224,224))\n",
        "tsdata = ImageDataGenerator()\n",
        "testdata = tsdata.flow_from_directory(directory=\"/content/drive/MyDrive/Liveness_Daniel/CNN/dogs_vs_cats/test\", target_size=(224,224))"
      ],
      "metadata": {
        "colab": {
          "base_uri": "https://localhost:8080/"
        },
        "id": "15xgRqbezUoH",
        "outputId": "8d4e1471-07d4-445e-adb5-21aaf13d3560"
      },
      "execution_count": null,
      "outputs": [
        {
          "output_type": "stream",
          "name": "stdout",
          "text": [
            "Found 231 images belonging to 2 classes.\n",
            "Found 77 images belonging to 2 classes.\n"
          ]
        }
      ]
    },
    {
      "cell_type": "markdown",
      "source": [
        "## **Usando o que já foi feito**"
      ],
      "metadata": {
        "id": "NhMRYZgW5bkD"
      }
    },
    {
      "cell_type": "code",
      "source": [
        "def create_model(input_shape, n_classes, optimizer='rmsprop', fine_tune=0):\n",
        "    \"\"\"\n",
        "    Compiles a model integrated with VGG16 pretrained layers\n",
        "    \n",
        "    input_shape: tuple - the shape of input images (width, height, channels)\n",
        "    n_classes: int - number of classes for the output layer\n",
        "    optimizer: string - instantiated optimizer to use for training. Defaults to 'RMSProp'\n",
        "    fine_tune: int - The number of pre-trained layers to unfreeze.\n",
        "                If set to 0, all pretrained layers will freeze during training\n",
        "    \"\"\"\n",
        "    \n",
        "    # Pretrained convolutional layers are loaded using the Imagenet weights.\n",
        "    # Include_top is set to False, in order to exclude the model's fully-connected layers.\n",
        "    conv_base = VGG16(include_top=False,\n",
        "                     weights='imagenet', \n",
        "                     input_shape=input_shape)\n",
        "    \n",
        "    # Defines how many layers to freeze during training.\n",
        "    # Layers in the convolutional base are switched from trainable to non-trainable\n",
        "    # depending on the size of the fine-tuning parameter.\n",
        "    if fine_tune > 0:\n",
        "        for layer in conv_base.layers[:-fine_tune]:\n",
        "            layer.trainable = False\n",
        "    else:\n",
        "        for layer in conv_base.layers:\n",
        "            layer.trainable = False\n",
        "\n",
        "    # Create a new 'top' of the model (i.e. fully-connected layers).\n",
        "    # This is 'bootstrapping' a new top_model onto the pretrained layers.\n",
        "    top_model = conv_base.output\n",
        "    top_model = Flatten(name=\"flatten\")(top_model)\n",
        "    top_model = Dense(4096, activation='relu')(top_model)\n",
        "    top_model = Dense(1072, activation='relu')(top_model)\n",
        "    top_model = Dropout(0.2)(top_model)\n",
        "    output_layer = Dense(n_classes, activation='softmax')(top_model)\n",
        "    \n",
        "    # Group the convolutional base and new fully-connected layers into a Model object.\n",
        "    model = Model(inputs=conv_base.input, outputs=output_layer)\n",
        "\n",
        "    # Compiles the model for training.\n",
        "    model.compile(optimizer=optimizer, \n",
        "                  loss='categorical_crossentropy',\n",
        "                  metrics=['accuracy'])\n",
        "    \n",
        "    return model"
      ],
      "metadata": {
        "id": "q90H7NgK03Yi"
      },
      "execution_count": null,
      "outputs": []
    },
    {
      "cell_type": "code",
      "source": [
        "input_shape = (224, 224, 3)\n",
        "optim_1 = Adam(learning_rate=0.001)\n",
        "n_classes=2\n",
        "\n",
        "# First we'll train the model without Fine-tuning\n",
        "vgg_model = create_model(input_shape, n_classes, optim_1, fine_tune=0)"
      ],
      "metadata": {
        "id": "yI4wHKuJ4mo4",
        "colab": {
          "base_uri": "https://localhost:8080/"
        },
        "outputId": "81064bb5-a9ac-40d5-c7ba-81762e7b65b5"
      },
      "execution_count": null,
      "outputs": [
        {
          "output_type": "stream",
          "name": "stdout",
          "text": [
            "Downloading data from https://storage.googleapis.com/tensorflow/keras-applications/vgg16/vgg16_weights_tf_dim_ordering_tf_kernels_notop.h5\n",
            "58889256/58889256 [==============================] - 1s 0us/step\n"
          ]
        }
      ]
    },
    {
      "cell_type": "markdown",
      "source": [
        "## **Do jeito do link:**"
      ],
      "metadata": {
        "id": "4rsjyLHx-JZ9"
      }
    },
    {
      "cell_type": "code",
      "source": [
        "# Generate the model\n",
        "model = Sequential()\n",
        "# Layer 1: Convolutional\n",
        "model.add(Conv2D(input_shape=(224, 224, 3), filters=64, kernel_size=(3, 3),\n",
        "                 padding='same', activation='relu'))\n",
        "# Layer 2: Convolutional\n",
        "model.add(Conv2D(filters=64, kernel_size=(3,3), padding='same', activation='relu'))\n",
        "# Layer 3: MaxPooling\n",
        "model.add(MaxPool2D(pool_size=(2, 2), strides=(2, 2)))\n",
        "\n",
        "# Layer 4: Convolutional\n",
        "model.add(Conv2D(filters=128, kernel_size=(3,3), padding='same', activation='relu'))\n",
        "# Layer 5: Convolutional\n",
        "model.add(Conv2D(filters=128, kernel_size=(3,3), padding='same', activation='relu'))\n",
        "# Layer 6: MaxPooling\n",
        "model.add(MaxPool2D(pool_size=(2, 2), strides=(2, 2)))\n",
        "\n",
        "# Layer 7: Convolutional\n",
        "model.add(Conv2D(filters=256, kernel_size=(3,3), padding='same', activation='relu'))\n",
        "# Layer 8: Convolutional\n",
        "model.add(Conv2D(filters=256, kernel_size=(3,3), padding='same', activation='relu'))\n",
        "# Layer 9: Convolutional\n",
        "model.add(Conv2D(filters=256, kernel_size=(3,3), padding='same', activation='relu'))\n",
        "# Layer 10: MaxPooling\n",
        "model.add(MaxPool2D(pool_size=(2, 2), strides=(2, 2)))\n",
        "\n",
        "# Layer 11: Convolutional\n",
        "model.add(Conv2D(filters=512, kernel_size=(3,3), padding='same', activation='relu'))\n",
        "# Layer 12: Convolutional\n",
        "model.add(Conv2D(filters=512, kernel_size=(3,3), padding='same', activation='relu'))\n",
        "# Layer 13: Convolutional\n",
        "model.add(Conv2D(filters=512, kernel_size=(3,3), padding='same', activation='relu'))\n",
        "# Layer 14: MaxPooling\n",
        "model.add(MaxPool2D(pool_size=(2, 2), strides=(2, 2)))\n",
        "\n",
        "# Layer 15: Convolutional\n",
        "model.add(Conv2D(filters=512, kernel_size=(3,3), padding='same', activation='relu'))\n",
        "# Layer 16: Convolutional\n",
        "model.add(Conv2D(filters=512, kernel_size=(3,3), padding='same', activation='relu'))\n",
        "# Layer 17: Convolutional\n",
        "model.add(Conv2D(filters=512, kernel_size=(3,3), padding='same', activation='relu'))\n",
        "# Layer 18: MaxPooling\n",
        "model.add(MaxPool2D(pool_size=(2, 2), strides=(2, 2)))\n",
        "\n",
        "# Layer 19: Flatten\n",
        "model.add(Flatten())\n",
        "# Layer 20: Fully Connected Layer\n",
        "model.add(Dense(units=4096, activation='relu'))\n",
        "# Layer 21: Fully Connected Layer\n",
        "model.add(Dense(units=4096, activation='relu'))\n",
        "# Layer 22: Softmax Layer\n",
        "model.add(Dense(units=2, activation='softmax'))"
      ],
      "metadata": {
        "id": "rMIUlrJy-adh"
      },
      "execution_count": null,
      "outputs": []
    },
    {
      "cell_type": "code",
      "source": [
        "# Add Optimizer\n",
        "optimizer = Adam(learning_rate=0.001)\n",
        "model.compile(optimizer=optimizer, loss=keras.losses.categorical_crossentropy,\n",
        "              metrics=['accuracy'])\n",
        "# Check model summary\n",
        "print(model.summary())"
      ],
      "metadata": {
        "colab": {
          "base_uri": "https://localhost:8080/"
        },
        "id": "FaFnb7Fo5MyI",
        "outputId": "908966e0-3ef9-488c-e004-850f3db825b3"
      },
      "execution_count": null,
      "outputs": [
        {
          "output_type": "stream",
          "name": "stdout",
          "text": [
            "Model: \"sequential\"\n",
            "_________________________________________________________________\n",
            " Layer (type)                Output Shape              Param #   \n",
            "=================================================================\n",
            " conv2d (Conv2D)             (None, 224, 224, 64)      1792      \n",
            "                                                                 \n",
            " conv2d_1 (Conv2D)           (None, 224, 224, 64)      36928     \n",
            "                                                                 \n",
            " max_pooling2d (MaxPooling2D  (None, 112, 112, 64)     0         \n",
            " )                                                               \n",
            "                                                                 \n",
            " conv2d_2 (Conv2D)           (None, 112, 112, 128)     73856     \n",
            "                                                                 \n",
            " conv2d_3 (Conv2D)           (None, 112, 112, 128)     147584    \n",
            "                                                                 \n",
            " max_pooling2d_1 (MaxPooling  (None, 56, 56, 128)      0         \n",
            " 2D)                                                             \n",
            "                                                                 \n",
            " conv2d_4 (Conv2D)           (None, 56, 56, 256)       295168    \n",
            "                                                                 \n",
            " conv2d_5 (Conv2D)           (None, 56, 56, 256)       590080    \n",
            "                                                                 \n",
            " conv2d_6 (Conv2D)           (None, 56, 56, 256)       590080    \n",
            "                                                                 \n",
            " max_pooling2d_2 (MaxPooling  (None, 28, 28, 256)      0         \n",
            " 2D)                                                             \n",
            "                                                                 \n",
            " conv2d_7 (Conv2D)           (None, 28, 28, 512)       1180160   \n",
            "                                                                 \n",
            " conv2d_8 (Conv2D)           (None, 28, 28, 512)       2359808   \n",
            "                                                                 \n",
            " conv2d_9 (Conv2D)           (None, 28, 28, 512)       2359808   \n",
            "                                                                 \n",
            " max_pooling2d_3 (MaxPooling  (None, 14, 14, 512)      0         \n",
            " 2D)                                                             \n",
            "                                                                 \n",
            " conv2d_10 (Conv2D)          (None, 14, 14, 512)       2359808   \n",
            "                                                                 \n",
            " conv2d_11 (Conv2D)          (None, 14, 14, 512)       2359808   \n",
            "                                                                 \n",
            " conv2d_12 (Conv2D)          (None, 14, 14, 512)       2359808   \n",
            "                                                                 \n",
            " max_pooling2d_4 (MaxPooling  (None, 7, 7, 512)        0         \n",
            " 2D)                                                             \n",
            "                                                                 \n",
            " flatten (Flatten)           (None, 25088)             0         \n",
            "                                                                 \n",
            " dense (Dense)               (None, 4096)              102764544 \n",
            "                                                                 \n",
            " dense_1 (Dense)             (None, 4096)              16781312  \n",
            "                                                                 \n",
            " dense_2 (Dense)             (None, 2)                 8194      \n",
            "                                                                 \n",
            "=================================================================\n",
            "Total params: 134,268,738\n",
            "Trainable params: 134,268,738\n",
            "Non-trainable params: 0\n",
            "_________________________________________________________________\n",
            "None\n"
          ]
        }
      ]
    },
    {
      "cell_type": "code",
      "source": [
        "checkpoint = ModelCheckpoint(\"vgg16_1.h5\", monitor='val_acc', \n",
        "                             verbose=1, save_best_only=True, \n",
        "                             save_weights_only=False, mode='auto', save_freq=1)"
      ],
      "metadata": {
        "id": "WG3E85-v5mp8"
      },
      "execution_count": null,
      "outputs": []
    },
    {
      "cell_type": "code",
      "source": [
        "earlystop = EarlyStopping(monitor='val_acc', min_delta=0, patience=20, verbose=1, mode='auto')"
      ],
      "metadata": {
        "id": "5Bxft71O5nMo"
      },
      "execution_count": null,
      "outputs": []
    },
    {
      "cell_type": "code",
      "source": [
        "hist = model.fit_generator(steps_per_epoch=100, generator=traindata, validation_data=testdata,\n",
        "                           validation_steps=10, epochs=100,\n",
        "                           callbacks=[checkpoint, earlystop])"
      ],
      "metadata": {
        "colab": {
          "base_uri": "https://localhost:8080/"
        },
        "id": "tU4_4wwk54hh",
        "outputId": "1382ac32-9b06-4077-b617-e459fdbc5ffb"
      },
      "execution_count": null,
      "outputs": [
        {
          "output_type": "stream",
          "name": "stderr",
          "text": [
            "<ipython-input-7-1dd603799b37>:1: UserWarning: `Model.fit_generator` is deprecated and will be removed in a future version. Please use `Model.fit`, which supports generators.\n",
            "  hist = model.fit_generator(steps_per_epoch=100, generator=traindata, validation_data=testdata,\n"
          ]
        },
        {
          "output_type": "stream",
          "name": "stdout",
          "text": [
            "Epoch 1/100\n"
          ]
        },
        {
          "output_type": "stream",
          "name": "stderr",
          "text": [
            "WARNING:tensorflow:Can save best model only with val_acc available, skipping.\n"
          ]
        },
        {
          "output_type": "stream",
          "name": "stdout",
          "text": [
            "\r  1/100 [..............................] - ETA: 1:52:03 - loss: 0.6033 - accuracy: 0.7812"
          ]
        },
        {
          "output_type": "stream",
          "name": "stderr",
          "text": [
            "WARNING:tensorflow:Can save best model only with val_acc available, skipping.\n"
          ]
        },
        {
          "output_type": "stream",
          "name": "stdout",
          "text": [
            "\b\b\b\b\b\b\b\b\b\b\b\b\b\b\b\b\b\b\b\b\b\b\b\b\b\b\b\b\b\b\b\b\b\b\b\b\b\b\b\b\b\b\b\b\b\b\b\b\b\b\b\b\b\b\b\b\b\b\b\b\b\b\b\b\b\b\b\b\b\b\b\b\b\b\b\b\b\b\b\b\b\b\b\b\b\b\b\b\b\r  2/100 [..............................] - ETA: 1:44:05 - loss: 52019.4180 - accuracy: 0.7344"
          ]
        },
        {
          "output_type": "stream",
          "name": "stderr",
          "text": [
            "WARNING:tensorflow:Can save best model only with val_acc available, skipping.\n"
          ]
        },
        {
          "output_type": "stream",
          "name": "stdout",
          "text": [
            "\b\b\b\b\b\b\b\b\b\b\b\b\b\b\b\b\b\b\b\b\b\b\b\b\b\b\b\b\b\b\b\b\b\b\b\b\b\b\b\b\b\b\b\b\b\b\b\b\b\b\b\b\b\b\b\b\b\b\b\b\b\b\b\b\b\b\b\b\b\b\b\b\b\b\b\b\b\b\b\b\b\b\b\b\b\b\b\b\b\b\b\b\b\r  3/100 [..............................] - ETA: 1:04:07 - loss: 46890.8320 - accuracy: 0.6901"
          ]
        },
        {
          "output_type": "stream",
          "name": "stderr",
          "text": [
            "WARNING:tensorflow:Can save best model only with val_acc available, skipping.\n"
          ]
        },
        {
          "output_type": "stream",
          "name": "stdout",
          "text": [
            "\b\b\b\b\b\b\b\b\b\b\b\b\b\b\b\b\b\b\b\b\b\b\b\b\b\b\b\b\b\b\b\b\b\b\b\b\b\b\b\b\b\b\b\b\b\b\b\b\b\b\b\b\b\b\b\b\b\b\b\b\b\b\b\b\b\b\b\b\b\b\b\b\b\b\b\b\b\b\b\b\b\b\b\b\b\b\b\b\b\b\b\b\b\r  4/100 [>.............................] - ETA: 1:15:11 - loss: 32323.0000 - accuracy: 0.7282"
          ]
        },
        {
          "output_type": "stream",
          "name": "stderr",
          "text": [
            "WARNING:tensorflow:Can save best model only with val_acc available, skipping.\n"
          ]
        },
        {
          "output_type": "stream",
          "name": "stdout",
          "text": [
            "\b\b\b\b\b\b\b\b\b\b\b\b\b\b\b\b\b\b\b\b\b\b\b\b\b\b\b\b\b\b\b\b\b\b\b\b\b\b\b\b\b\b\b\b\b\b\b\b\b\b\b\b\b\b\b\b\b\b\b\b\b\b\b\b\b\b\b\b\b\b\b\b\b\b\b\b\b\b\b\b\b\b\b\b\b\b\b\b\b\b\b\b\b\r  5/100 [>.............................] - ETA: 1:21:22 - loss: 24661.6953 - accuracy: 0.7111"
          ]
        },
        {
          "output_type": "stream",
          "name": "stderr",
          "text": [
            "WARNING:tensorflow:Can save best model only with val_acc available, skipping.\n"
          ]
        },
        {
          "output_type": "stream",
          "name": "stdout",
          "text": [
            "\b\b\b\b\b\b\b\b\b\b\b\b\b\b\b\b\b\b\b\b\b\b\b\b\b\b\b\b\b\b\b\b\b\b\b\b\b\b\b\b\b\b\b\b\b\b\b\b\b\b\b\b\b\b\b\b\b\b\b\b\b\b\b\b\b\b\b\b\b\b\b\b\b\b\b\b\b\b\b\b\b\b\b\b\b\b\b\b\b\b\b\b\b\r  6/100 [>.............................] - ETA: 1:23:45 - loss: 19936.6797 - accuracy: 0.6587"
          ]
        },
        {
          "output_type": "stream",
          "name": "stderr",
          "text": [
            "WARNING:tensorflow:Can save best model only with val_acc available, skipping.\n"
          ]
        },
        {
          "output_type": "stream",
          "name": "stdout",
          "text": [
            "\b\b\b\b\b\b\b\b\b\b\b\b\b\b\b\b\b\b\b\b\b\b\b\b\b\b\b\b\b\b\b\b\b\b\b\b\b\b\b\b\b\b\b\b\b\b\b\b\b\b\b\b\b\b\b\b\b\b\b\b\b\b\b\b\b\b\b\b\b\b\b\b\b\b\b\b\b\b\b\b\b\b\b\b\b\b\b\b\b\b\b\b\b\r  7/100 [=>............................] - ETA: 1:25:07 - loss: 16730.9375 - accuracy: 0.6080"
          ]
        },
        {
          "output_type": "stream",
          "name": "stderr",
          "text": [
            "WARNING:tensorflow:Can save best model only with val_acc available, skipping.\n"
          ]
        },
        {
          "output_type": "stream",
          "name": "stdout",
          "text": [
            "\b\b\b\b\b\b\b\b\b\b\b\b\b\b\b\b\b\b\b\b\b\b\b\b\b\b\b\b\b\b\b\b\b\b\b\b\b\b\b\b\b\b\b\b\b\b\b\b\b\b\b\b\b\b\b\b\b\b\b\b\b\b\b\b\b\b\b\b\b\b\b\b\b\b\b\b\b\b\b\b\b\b\b\b\b\b\b\b\b\b\b\b\b\r  8/100 [=>............................] - ETA: 1:26:08 - loss: 14413.3291 - accuracy: 0.5974"
          ]
        },
        {
          "output_type": "stream",
          "name": "stderr",
          "text": [
            "WARNING:tensorflow:Your input ran out of data; interrupting training. Make sure that your dataset or generator can generate at least `steps_per_epoch * epochs` batches (in this case, 10000 batches). You may need to use the repeat() function when building your dataset.\n",
            "WARNING:tensorflow:Your input ran out of data; interrupting training. Make sure that your dataset or generator can generate at least `steps_per_epoch * epochs` batches (in this case, 10 batches). You may need to use the repeat() function when building your dataset.\n",
            "WARNING:tensorflow:Early stopping conditioned on metric `val_acc` which is not available. Available metrics are: loss,accuracy,val_loss,val_accuracy\n"
          ]
        },
        {
          "output_type": "stream",
          "name": "stdout",
          "text": [
            "\b\b\b\b\b\b\b\b\b\b\b\b\b\b\b\b\b\b\b\b\b\b\b\b\b\b\b\b\b\b\b\b\b\b\b\b\b\b\b\b\b\b\b\b\b\b\b\b\b\b\b\b\b\b\b\b\b\b\b\b\b\b\b\b\b\b\b\b\b\b\b\b\b\b\b\b\b\b\b\b\b\b\b\b\b\b\b\b\b\b\b\b\b\r100/100 [==============================] - 552s 5s/step - loss: 14413.3291 - accuracy: 0.5974 - val_loss: 0.6975 - val_accuracy: 0.5195\n"
          ]
        }
      ]
    },
    {
      "cell_type": "code",
      "source": [
        "img = image.load_img(\"/content/drive/MyDrive/Liveness_Daniel/CNN/dogs_vs_cats/test/dogs/46.jpg\",target_size=(224,224))\n",
        "img = np.asarray(img)\n",
        "plt.imshow(img)\n",
        "img = np.expand_dims(img, axis=0)\n",
        "output = model.predict(img)\n",
        "if output[0][0] > output[0][1]:\n",
        "    print(\"cat\")\n",
        "else:\n",
        "    print('dog')"
      ],
      "metadata": {
        "colab": {
          "base_uri": "https://localhost:8080/",
          "height": 305
        },
        "id": "_lZLBXPF7ckE",
        "outputId": "d92b36ac-b9ce-4f83-c65f-0cb5650654c1"
      },
      "execution_count": null,
      "outputs": [
        {
          "output_type": "stream",
          "name": "stdout",
          "text": [
            "1/1 [==============================] - 1s 1s/step\n",
            "dog\n"
          ]
        },
        {
          "output_type": "display_data",
          "data": {
            "text/plain": [
              "<Figure size 432x288 with 1 Axes>"
            ],
            "image/png": "[encoded data removed]"
          },
          "metadata": {
            "needs_background": "light"
          }
        }
      ]
    },
    {
      "cell_type": "markdown",
      "source": [
        "# Exemplo 6"
      ],
      "metadata": {
        "id": "Gph-Pa_Y99kW"
      }
    },
    {
      "cell_type": "code",
      "source": [
        "import numpy as np\n",
        "from random import randint\n",
        "from sklearn.utils import shuffle\n",
        "from sklearn.preprocessing import MinMaxScaler"
      ],
      "metadata": {
        "id": "6-Ei3-keBTPI"
      },
      "execution_count": null,
      "outputs": []
    },
    {
      "cell_type": "code",
      "source": [
        "train_labels = []\n",
        "train_samples = []"
      ],
      "metadata": {
        "id": "o7Usg2o1-R2_"
      },
      "execution_count": null,
      "outputs": []
    },
    {
      "cell_type": "code",
      "source": [
        "for i in range(50):\n",
        "  random_younger = randint(13,64)\n",
        "  train_samples.append(random_younger)\n",
        "  train_labels.append(1)\n",
        "\n",
        "  random_older = randint(65,100)\n",
        "  train_samples.append(random_older)\n",
        "  train_labels.append(0)\n",
        "\n",
        "for i in range(1000):\n",
        "  random_younger = randint(13, 64)\n",
        "  train_samples.append(random_younger)\n",
        "  train_labels.append(0)\n",
        "\n",
        "  random_older = randint(65,100)\n",
        "  train_samples.append(random_older)\n",
        "  train_labels.append(1)"
      ],
      "metadata": {
        "id": "9vwQ9LgY-VUN"
      },
      "execution_count": null,
      "outputs": []
    },
    {
      "cell_type": "code",
      "source": [
        "for i in train_samples:\n",
        "  print(i)"
      ],
      "metadata": {
        "id": "4TfiKP0Y_HqU"
      },
      "execution_count": null,
      "outputs": []
    },
    {
      "cell_type": "code",
      "source": [
        "for i in train_labels:\n",
        "  print(i)"
      ],
      "metadata": {
        "id": "VS9HwfK5_LMy"
      },
      "execution_count": null,
      "outputs": []
    },
    {
      "cell_type": "code",
      "source": [
        "train_labels = np.array(train_labels)\n",
        "train_samples = np.array(train_samples)\n",
        "train_labels, train_samples = shuffle(train_labels, train_samples)"
      ],
      "metadata": {
        "id": "sPEaUNA1_g-j"
      },
      "execution_count": null,
      "outputs": []
    },
    {
      "cell_type": "code",
      "source": [
        "scaler = MinMaxScaler(feature_range=(0,1))\n",
        "scaled_train_samples = scaler.fit_transform(train_samples.reshape(-1,1))"
      ],
      "metadata": {
        "id": "_D3EfK7-_08_"
      },
      "execution_count": null,
      "outputs": []
    },
    {
      "cell_type": "code",
      "source": [
        "for i in scaled_train_samples:\n",
        "  print(i)"
      ],
      "metadata": {
        "id": "hYXk_EmOAv3E"
      },
      "execution_count": null,
      "outputs": []
    },
    {
      "cell_type": "markdown",
      "source": [
        "## Simple tf.keras Sequential Model"
      ],
      "metadata": {
        "id": "lI2jHPBFBKgn"
      }
    },
    {
      "cell_type": "code",
      "source": [
        " import tensorflow as tf\n",
        " from tensorflow import keras\n",
        " from tensorflow.keras.models import Sequential\n",
        " from tensorflow.keras.layers import Activation, Dense\n",
        " from tensorflow.keras.optimizers import Adam\n",
        " from tensorflow.keras.metrics import categorical_crossentropy"
      ],
      "metadata": {
        "id": "yf_n4q5jAzqk"
      },
      "execution_count": null,
      "outputs": []
    },
    {
      "cell_type": "code",
      "source": [
        "model = Sequential([\n",
        "    Dense(units=16, input_shape=(1,), activation='relu'),\n",
        "    Dense(units=32, activation='relu'),\n",
        "    Dense(units=2, activation='softmax')\n",
        "])"
      ],
      "metadata": {
        "id": "lux5x6oKCg7-"
      },
      "execution_count": null,
      "outputs": []
    },
    {
      "cell_type": "code",
      "source": [
        "model.summary()"
      ],
      "metadata": {
        "colab": {
          "base_uri": "https://localhost:8080/"
        },
        "id": "qyBTvtdJDE1A",
        "outputId": "054fa955-f822-4c8f-b1c9-9bf89f314d0b"
      },
      "execution_count": null,
      "outputs": [
        {
          "output_type": "stream",
          "name": "stdout",
          "text": [
            "Model: \"sequential\"\n",
            "_________________________________________________________________\n",
            " Layer (type)                Output Shape              Param #   \n",
            "=================================================================\n",
            " dense (Dense)               (None, 16)                32        \n",
            "                                                                 \n",
            " dense_1 (Dense)             (None, 32)                544       \n",
            "                                                                 \n",
            " dense_2 (Dense)             (None, 2)                 66        \n",
            "                                                                 \n",
            "=================================================================\n",
            "Total params: 642\n",
            "Trainable params: 642\n",
            "Non-trainable params: 0\n",
            "_________________________________________________________________\n"
          ]
        }
      ]
    },
    {
      "cell_type": "code",
      "source": [
        "model.compile(optimizer=Adam(learning_rate=0.0001), loss='sparse_categorical_crossentropy', metrics=['accuracy'])"
      ],
      "metadata": {
        "id": "F7sWJP1YDGaz"
      },
      "execution_count": null,
      "outputs": []
    },
    {
      "cell_type": "code",
      "source": [
        "model.fit(x=scaled_train_samples, y=train_labels, validation_split=0.1, batch_size=10, epochs=30, shuffle=True, verbose=2)"
      ],
      "metadata": {
        "colab": {
          "base_uri": "https://localhost:8080/"
        },
        "id": "3ZMnDVejGQLX",
        "outputId": "e00154cd-217e-42f1-beda-96647da7f2c9"
      },
      "execution_count": null,
      "outputs": [
        {
          "output_type": "stream",
          "name": "stdout",
          "text": [
            "Epoch 1/30\n",
            "378/378 - 1s - loss: 0.6815 - accuracy: 0.5296 - val_loss: 0.6510 - val_accuracy: 0.7262 - 1s/epoch - 3ms/step\n",
            "Epoch 2/30\n",
            "378/378 - 0s - loss: 0.6264 - accuracy: 0.7339 - val_loss: 0.5957 - val_accuracy: 0.7786 - 476ms/epoch - 1ms/step\n",
            "Epoch 3/30\n",
            "378/378 - 0s - loss: 0.5725 - accuracy: 0.7720 - val_loss: 0.5377 - val_accuracy: 0.8262 - 480ms/epoch - 1ms/step\n",
            "Epoch 4/30\n",
            "378/378 - 0s - loss: 0.5166 - accuracy: 0.8180 - val_loss: 0.4784 - val_accuracy: 0.8500 - 471ms/epoch - 1ms/step\n",
            "Epoch 5/30\n",
            "378/378 - 0s - loss: 0.4630 - accuracy: 0.8511 - val_loss: 0.4241 - val_accuracy: 0.9024 - 456ms/epoch - 1ms/step\n",
            "Epoch 6/30\n",
            "378/378 - 0s - loss: 0.4155 - accuracy: 0.8799 - val_loss: 0.3767 - val_accuracy: 0.9119 - 422ms/epoch - 1ms/step\n",
            "Epoch 7/30\n",
            "378/378 - 0s - loss: 0.3773 - accuracy: 0.8918 - val_loss: 0.3396 - val_accuracy: 0.9333 - 426ms/epoch - 1ms/step\n",
            "Epoch 8/30\n",
            "378/378 - 0s - loss: 0.3481 - accuracy: 0.9040 - val_loss: 0.3113 - val_accuracy: 0.9357 - 448ms/epoch - 1ms/step\n",
            "Epoch 9/30\n",
            "378/378 - 0s - loss: 0.3269 - accuracy: 0.9122 - val_loss: 0.2907 - val_accuracy: 0.9500 - 437ms/epoch - 1ms/step\n",
            "Epoch 10/30\n",
            "378/378 - 0s - loss: 0.3113 - accuracy: 0.9217 - val_loss: 0.2744 - val_accuracy: 0.9405 - 458ms/epoch - 1ms/step\n",
            "Epoch 11/30\n",
            "378/378 - 0s - loss: 0.3006 - accuracy: 0.9204 - val_loss: 0.2632 - val_accuracy: 0.9500 - 415ms/epoch - 1ms/step\n",
            "Epoch 12/30\n",
            "378/378 - 0s - loss: 0.2922 - accuracy: 0.9262 - val_loss: 0.2537 - val_accuracy: 0.9500 - 448ms/epoch - 1ms/step\n",
            "Epoch 13/30\n",
            "378/378 - 0s - loss: 0.2860 - accuracy: 0.9288 - val_loss: 0.2475 - val_accuracy: 0.9571 - 432ms/epoch - 1ms/step\n",
            "Epoch 14/30\n",
            "378/378 - 1s - loss: 0.2814 - accuracy: 0.9328 - val_loss: 0.2416 - val_accuracy: 0.9571 - 620ms/epoch - 2ms/step\n",
            "Epoch 15/30\n",
            "378/378 - 1s - loss: 0.2777 - accuracy: 0.9325 - val_loss: 0.2376 - val_accuracy: 0.9571 - 920ms/epoch - 2ms/step\n",
            "Epoch 16/30\n",
            "378/378 - 1s - loss: 0.2746 - accuracy: 0.9328 - val_loss: 0.2353 - val_accuracy: 0.9643 - 1s/epoch - 3ms/step\n",
            "Epoch 17/30\n",
            "378/378 - 1s - loss: 0.2724 - accuracy: 0.9389 - val_loss: 0.2309 - val_accuracy: 0.9571 - 503ms/epoch - 1ms/step\n",
            "Epoch 18/30\n",
            "378/378 - 0s - loss: 0.2703 - accuracy: 0.9347 - val_loss: 0.2286 - val_accuracy: 0.9571 - 408ms/epoch - 1ms/step\n",
            "Epoch 19/30\n",
            "378/378 - 0s - loss: 0.2684 - accuracy: 0.9386 - val_loss: 0.2262 - val_accuracy: 0.9571 - 469ms/epoch - 1ms/step\n",
            "Epoch 20/30\n",
            "378/378 - 0s - loss: 0.2667 - accuracy: 0.9376 - val_loss: 0.2249 - val_accuracy: 0.9643 - 423ms/epoch - 1ms/step\n",
            "Epoch 21/30\n",
            "378/378 - 0s - loss: 0.2652 - accuracy: 0.9407 - val_loss: 0.2225 - val_accuracy: 0.9643 - 409ms/epoch - 1ms/step\n",
            "Epoch 22/30\n",
            "378/378 - 0s - loss: 0.2638 - accuracy: 0.9405 - val_loss: 0.2203 - val_accuracy: 0.9571 - 430ms/epoch - 1ms/step\n",
            "Epoch 23/30\n",
            "378/378 - 0s - loss: 0.2625 - accuracy: 0.9373 - val_loss: 0.2191 - val_accuracy: 0.9643 - 410ms/epoch - 1ms/step\n",
            "Epoch 24/30\n",
            "378/378 - 0s - loss: 0.2608 - accuracy: 0.9389 - val_loss: 0.2177 - val_accuracy: 0.9643 - 447ms/epoch - 1ms/step\n",
            "Epoch 25/30\n",
            "378/378 - 0s - loss: 0.2595 - accuracy: 0.9402 - val_loss: 0.2159 - val_accuracy: 0.9643 - 460ms/epoch - 1ms/step\n",
            "Epoch 26/30\n",
            "378/378 - 1s - loss: 0.2582 - accuracy: 0.9407 - val_loss: 0.2142 - val_accuracy: 0.9643 - 846ms/epoch - 2ms/step\n",
            "Epoch 27/30\n",
            "378/378 - 1s - loss: 0.2569 - accuracy: 0.9402 - val_loss: 0.2127 - val_accuracy: 0.9643 - 925ms/epoch - 2ms/step\n",
            "Epoch 28/30\n",
            "378/378 - 1s - loss: 0.2558 - accuracy: 0.9407 - val_loss: 0.2113 - val_accuracy: 0.9643 - 822ms/epoch - 2ms/step\n",
            "Epoch 29/30\n",
            "378/378 - 0s - loss: 0.2549 - accuracy: 0.9415 - val_loss: 0.2100 - val_accuracy: 0.9643 - 454ms/epoch - 1ms/step\n",
            "Epoch 30/30\n",
            "378/378 - 0s - loss: 0.2539 - accuracy: 0.9397 - val_loss: 0.2101 - val_accuracy: 0.9714 - 473ms/epoch - 1ms/step\n"
          ]
        },
        {
          "output_type": "execute_result",
          "data": {
            "text/plain": [
              "<keras.callbacks.History at 0x7f05fcbd8b50>"
            ]
          },
          "metadata": {},
          "execution_count": 14
        }
      ]
    },
    {
      "cell_type": "markdown",
      "source": [
        "## Preprocess Test Data"
      ],
      "metadata": {
        "id": "Ggiz9SkXzORl"
      }
    },
    {
      "cell_type": "code",
      "source": [
        "test_labels = []\n",
        "test_samples = []"
      ],
      "metadata": {
        "id": "BHLJDYhAzStF"
      },
      "execution_count": null,
      "outputs": []
    },
    {
      "cell_type": "code",
      "source": [
        "for i in range(10):\n",
        "  random_younger = randint(13,64)\n",
        "  test_samples.append(random_younger)\n",
        "  test_labels.append(1)\n",
        "\n",
        "  random_older = randint(65,100)\n",
        "  test_samples.append(random_older)\n",
        "  test_labels.append(0)\n",
        "\n",
        "for i in range(200):\n",
        "  random_younger = randint(13, 64)\n",
        "  test_samples.append(random_younger)\n",
        "  test_labels.append(0)\n",
        "\n",
        "  random_older = randint(65,100)\n",
        "  test_samples.append(random_older)\n",
        "  test_labels.append(1)"
      ],
      "metadata": {
        "id": "qFraQKy2zdf0"
      },
      "execution_count": null,
      "outputs": []
    },
    {
      "cell_type": "code",
      "source": [
        "test_labels = np.array(test_labels)\n",
        "test_samples = np.array(test_samples)\n",
        "test_labels, test_samples = shuffle(test_labels, test_samples)"
      ],
      "metadata": {
        "id": "XI9GuTT0z2F0"
      },
      "execution_count": null,
      "outputs": []
    },
    {
      "cell_type": "code",
      "source": [
        "scaled_test_samples = scaler.fit_transform(test_samples.reshape(-1,1))"
      ],
      "metadata": {
        "id": "kOhtTnRN0PK-"
      },
      "execution_count": null,
      "outputs": []
    },
    {
      "cell_type": "markdown",
      "source": [
        "## Predict"
      ],
      "metadata": {
        "id": "f6zESYK80mj2"
      }
    },
    {
      "cell_type": "code",
      "source": [
        "predictions = model.predict(x = scaled_test_samples, batch_size=10, verbose=0)"
      ],
      "metadata": {
        "id": "0SgzWt9q0pQd"
      },
      "execution_count": null,
      "outputs": []
    },
    {
      "cell_type": "code",
      "source": [
        "for i in predictions:\n",
        "  print(i)"
      ],
      "metadata": {
        "id": "xepSaQog0zqs"
      },
      "execution_count": null,
      "outputs": []
    },
    {
      "cell_type": "code",
      "source": [
        "rounded_predictions = np.argmax(predictions, axis=-1)"
      ],
      "metadata": {
        "id": "MKFzDHTa0-Zj"
      },
      "execution_count": null,
      "outputs": []
    },
    {
      "cell_type": "code",
      "source": [
        "for i in rounded_predictions:\n",
        "  print(i)"
      ],
      "metadata": {
        "id": "q_3LIw6k2Ahq"
      },
      "execution_count": null,
      "outputs": []
    },
    {
      "cell_type": "markdown",
      "source": [
        "### Confusion Matrix"
      ],
      "metadata": {
        "id": "XhvLLUCz5vcj"
      }
    },
    {
      "cell_type": "code",
      "source": [
        "%matplotlib inline\n",
        "from sklearn.metrics import confusion_matrix\n",
        "import itertools\n",
        "import matplotlib.pyplot as plt"
      ],
      "metadata": {
        "id": "RLIe-aEY2Ey5"
      },
      "execution_count": null,
      "outputs": []
    },
    {
      "cell_type": "code",
      "source": [
        "cm = confusion_matrix(y_true= test_labels, y_pred= rounded_predictions)"
      ],
      "metadata": {
        "id": "ttBTHFtE6kGd"
      },
      "execution_count": null,
      "outputs": []
    },
    {
      "cell_type": "code",
      "source": [
        "def plot_confusion_matrix(cm, classes,\n",
        "                          normalize=False,\n",
        "                          title='Confusion matrix',\n",
        "                          cmap=plt.cm.Blues):\n",
        "    \"\"\"\n",
        "    This function prints and plots the confusion matrix.\n",
        "    Normalization can be applied by setting `normalize=True`.\n",
        "    \"\"\"\n",
        "    plt.imshow(cm, interpolation='nearest', cmap=cmap)\n",
        "    plt.title(title)\n",
        "    plt.colorbar()\n",
        "    tick_marks = np.arange(len(classes))\n",
        "    plt.xticks(tick_marks, classes, rotation=45)\n",
        "    plt.yticks(tick_marks, classes)\n",
        "\n",
        "    if normalize:\n",
        "        cm = cm.astype('float') / cm.sum(axis=1)[:, np.newaxis]\n",
        "        print(\"Normalized confusion matrix\")\n",
        "    else:\n",
        "        print('Confusion matrix, without normalization')\n",
        "\n",
        "    print(cm)\n",
        "\n",
        "    thresh = cm.max() / 2.\n",
        "    for i, j in itertools.product(range(cm.shape[0]), range(cm.shape[1])):\n",
        "        plt.text(j, i, cm[i, j],\n",
        "                 horizontalalignment=\"center\",\n",
        "                 color=\"white\" if cm[i, j] > thresh else \"black\")\n",
        "\n",
        "    plt.tight_layout()\n",
        "    plt.ylabel('True label')\n",
        "    plt.xlabel('Predicted label')"
      ],
      "metadata": {
        "id": "S3e7O2M-6tLb"
      },
      "execution_count": null,
      "outputs": []
    },
    {
      "cell_type": "code",
      "source": [
        "cm_plot_labels = ['no_side_effects', 'had_side_effects']\n",
        "plot_confusion_matrix(cm=cm, classes=cm_plot_labels ,title='Confusion Matrix')"
      ],
      "metadata": {
        "colab": {
          "base_uri": "https://localhost:8080/",
          "height": 365
        },
        "id": "pGp9GiR-8B77",
        "outputId": "0f98c9b1-275d-4bce-d4a9-978ea9e6b663"
      },
      "execution_count": null,
      "outputs": [
        {
          "output_type": "stream",
          "name": "stdout",
          "text": [
            "Confusion matrix, without normalization\n",
            "[[200  10]\n",
            " [ 10 200]]\n"
          ]
        },
        {
          "output_type": "display_data",
          "data": {
            "text/plain": [
              "<Figure size 432x288 with 2 Axes>"
            ],
            "image/png": "[encoded data removed]"
          },
          "metadata": {
            "needs_background": "light"
          }
        }
      ]
    },
    {
      "cell_type": "markdown",
      "source": [
        "## 1. model.save()"
      ],
      "metadata": {
        "id": "tSEqQgHZthll"
      }
    },
    {
      "cell_type": "code",
      "source": [
        "import os.path\n",
        "if os.path.isfile('models/modical_trial_model.h5') is False:\n",
        "  model.save('models/medical_trial_model.h5')"
      ],
      "metadata": {
        "id": "Y54GV1z28U5D"
      },
      "execution_count": null,
      "outputs": []
    },
    {
      "cell_type": "code",
      "source": [
        "from tensorflow.keras.models import load_model\n",
        "new_model = load_model('models/medical_trial_model.h5')"
      ],
      "metadata": {
        "id": "xKUFs43Ct0CW"
      },
      "execution_count": null,
      "outputs": []
    },
    {
      "cell_type": "code",
      "source": [
        "new_model.summary()"
      ],
      "metadata": {
        "colab": {
          "base_uri": "https://localhost:8080/"
        },
        "id": "5H_mp_PduaXV",
        "outputId": "264cfa4d-fa5e-4956-8f74-b792b4dabcc7"
      },
      "execution_count": null,
      "outputs": [
        {
          "output_type": "stream",
          "name": "stdout",
          "text": [
            "Model: \"sequential\"\n",
            "_________________________________________________________________\n",
            " Layer (type)                Output Shape              Param #   \n",
            "=================================================================\n",
            " dense (Dense)               (None, 16)                32        \n",
            "                                                                 \n",
            " dense_1 (Dense)             (None, 32)                544       \n",
            "                                                                 \n",
            " dense_2 (Dense)             (None, 2)                 66        \n",
            "                                                                 \n",
            "=================================================================\n",
            "Total params: 642\n",
            "Trainable params: 642\n",
            "Non-trainable params: 0\n",
            "_________________________________________________________________\n"
          ]
        }
      ]
    },
    {
      "cell_type": "code",
      "source": [
        "new_model.get_weights()"
      ],
      "metadata": {
        "colab": {
          "base_uri": "https://localhost:8080/"
        },
        "id": "OezDmLU5ue4J",
        "outputId": "aa467a69-3ff6-4170-a90c-5e97c52a3865"
      },
      "execution_count": null,
      "outputs": [
        {
          "output_type": "execute_result",
          "data": {
            "text/plain": [
              "[array([[ 0.78073937, -0.15474886, -0.47919387, -0.04037726,  0.5942045 ,\n",
              "          0.38327983, -0.2935008 , -0.11830858,  0.03671318, -0.04939812,\n",
              "          0.26680803,  0.58450526, -0.06480861, -0.34502825, -0.58436614,\n",
              "          0.19896086]], dtype=float32),\n",
              " array([-0.1594721 ,  0.        ,  0.        ,  0.        , -0.1931573 ,\n",
              "        -0.14582227,  0.        ,  0.26577756,  0.23946525,  0.        ,\n",
              "        -0.11335669, -0.18263996,  0.        ,  0.        ,  0.        ,\n",
              "         0.18111831], dtype=float32),\n",
              " array([[ 0.49485216, -0.19393036,  0.43675876,  0.5005491 , -0.24174552,\n",
              "          0.32617298,  0.23437038, -0.10573691, -0.29845503,  0.264466  ,\n",
              "          0.57267237,  0.50282204, -0.09757   ,  0.45743293,  0.37932703,\n",
              "         -0.06939825,  0.37894505,  0.25621003, -0.15061238,  0.09918249,\n",
              "          0.07833668,  0.27873686, -0.03689316, -0.15460779, -0.36034533,\n",
              "         -0.0024633 , -0.28514203,  0.4058762 , -0.4154734 , -0.26097023,\n",
              "         -0.34644887,  0.45871547],\n",
              "        [ 0.21172628,  0.19809863, -0.07066375, -0.11091356,  0.16084698,\n",
              "         -0.20135783,  0.03537056,  0.11685094,  0.16253754,  0.13752112,\n",
              "          0.1857827 , -0.342248  ,  0.10800129, -0.14376163,  0.04954135,\n",
              "         -0.07815856, -0.3006128 , -0.12663914, -0.34143373, -0.3503127 ,\n",
              "         -0.09503946, -0.13699058,  0.08632189, -0.07667851, -0.22788277,\n",
              "         -0.23585486,  0.11724225, -0.03353354,  0.16369268,  0.10437253,\n",
              "          0.35234645, -0.14145182],\n",
              "        [-0.2807529 , -0.04101345, -0.19073547, -0.3482397 , -0.06808385,\n",
              "         -0.27999777,  0.35157946,  0.13451537, -0.13145897, -0.2357038 ,\n",
              "          0.14353135, -0.1345523 , -0.14058991, -0.12083475,  0.18831357,\n",
              "          0.1272394 , -0.32281855, -0.26842198,  0.34081534,  0.13134652,\n",
              "          0.20011458, -0.03948629,  0.04092011,  0.07351035,  0.07065994,\n",
              "         -0.27531856, -0.09288397,  0.267992  , -0.26616037,  0.29238716,\n",
              "         -0.24696115, -0.02129707],\n",
              "        [-0.2077478 ,  0.06526312,  0.11070114, -0.24156702, -0.16589674,\n",
              "          0.11305487, -0.2582608 ,  0.18822774, -0.34640056,  0.15447536,\n",
              "          0.25025544,  0.13982773,  0.34229764,  0.31514463,  0.30212268,\n",
              "          0.19030151,  0.1361194 ,  0.1957958 , -0.25684077, -0.3447587 ,\n",
              "         -0.33241606,  0.05359122, -0.22575437, -0.18954895, -0.216982  ,\n",
              "         -0.22588544, -0.25479218, -0.33609372, -0.30808783,  0.05750954,\n",
              "          0.18263981,  0.30707428],\n",
              "        [ 0.20104176, -0.3527906 ,  0.37695423,  0.50648457, -0.06330061,\n",
              "          0.29410782,  0.50136584, -0.11882579,  0.10171242, -0.11834251,\n",
              "         -0.02827839,  0.32869077, -0.58883506, -0.05220295,  0.2814024 ,\n",
              "         -0.24119005,  0.18036655,  0.12748975, -0.20612262,  0.0539096 ,\n",
              "          0.30998808, -0.1896162 , -0.33738315,  0.35332057, -0.3626494 ,\n",
              "         -0.02176998, -0.37226167,  0.6677323 , -0.19035383, -0.3094972 ,\n",
              "         -0.00831944,  0.36541587],\n",
              "        [ 0.2866152 , -0.48368979,  0.6251199 ,  0.45294732, -0.22793765,\n",
              "          0.16309406,  0.6170627 , -0.09492928, -0.27785504,  0.27031544,\n",
              "          0.3376785 ,  0.03648434, -0.5375648 ,  0.23759209,  0.14295736,\n",
              "          0.09237772,  0.27477834,  0.17008133, -0.29536283, -0.21655446,\n",
              "         -0.3319808 ,  0.23155867, -0.16170186, -0.15169106, -0.5105372 ,\n",
              "          0.27698985, -0.63235706,  0.2632401 , -0.374583  , -0.23140524,\n",
              "          0.3159332 ,  0.3133024 ],\n",
              "        [ 0.20120153,  0.01039207,  0.16409251, -0.32040825, -0.16105567,\n",
              "          0.09344885,  0.2733061 ,  0.08914936,  0.2614437 , -0.10921328,\n",
              "          0.03918925,  0.31602684, -0.06925452,  0.15641859, -0.17663904,\n",
              "          0.14638823, -0.17766489,  0.14730671, -0.05179477,  0.25948653,\n",
              "          0.14312041,  0.0867534 , -0.32115266, -0.29604805, -0.07433203,\n",
              "          0.2918274 , -0.27165717, -0.31082433, -0.14463155,  0.08765391,\n",
              "          0.08691531, -0.16208287],\n",
              "        [ 0.12000554,  0.56517345, -0.01907898, -0.242523  ,  0.2590754 ,\n",
              "         -0.44726986, -0.37767234, -0.293921  , -0.22961073, -0.3235194 ,\n",
              "         -0.01465496, -0.43285412,  0.50359446, -0.22218172, -0.2102194 ,\n",
              "          0.10187957, -0.44787192, -0.4785974 ,  0.00117739, -0.2786785 ,\n",
              "         -0.24192329,  0.1747219 , -0.22203144,  0.11052698,  0.5422402 ,\n",
              "         -0.1203441 ,  0.07847439,  0.16473342,  0.00229222, -0.18909512,\n",
              "         -0.32846397,  0.00514692],\n",
              "        [-0.24946201,  0.40786922, -0.30956924, -0.01405913,  0.21341294,\n",
              "          0.10795242,  0.3405961 ,  0.31588057,  0.2557263 , -0.2116858 ,\n",
              "         -0.25088787,  0.32286617, -0.2013805 ,  0.12495524, -0.18819822,\n",
              "         -0.3110247 ,  0.18564945,  0.06091681,  0.15858483,  0.10104191,\n",
              "          0.11422898, -0.0584475 ,  0.01783848, -0.2065735 ,  0.42278394,\n",
              "         -0.27553624,  0.4345444 , -0.25421798,  0.36719117, -0.1550645 ,\n",
              "          0.21821818,  0.1540809 ],\n",
              "        [-0.15171626,  0.34250894,  0.01767731, -0.27995217, -0.11673969,\n",
              "         -0.2727787 , -0.25713995, -0.27511573,  0.0434657 ,  0.06911349,\n",
              "          0.2987167 , -0.27196476, -0.30084023, -0.12740444,  0.24821451,\n",
              "         -0.22107926,  0.2508023 , -0.02074122, -0.3382276 ,  0.31336823,\n",
              "         -0.01468498, -0.19504052,  0.16442338, -0.06203586, -0.03721818,\n",
              "         -0.32393444, -0.10173061, -0.02549723,  0.1059677 , -0.27426225,\n",
              "         -0.0617094 , -0.04750085],\n",
              "        [ 0.66505   , -0.44241697,  0.38407463,  0.57228553,  0.08882336,\n",
              "          0.41001505,  0.08299696, -0.22753853, -0.21820469,  0.18143465,\n",
              "          0.41454485,  0.6640936 , -0.13920686,  0.46853384,  0.04304146,\n",
              "          0.10290778,  0.648962  ,  0.06300049,  0.06108091,  0.18563274,\n",
              "         -0.23375256,  0.07303969,  0.1456477 , -0.0783633 , -0.6410155 ,\n",
              "         -0.05982141, -0.6726526 ,  0.10089712, -0.5529869 ,  0.30361703,\n",
              "          0.04954639,  0.19518434],\n",
              "        [ 0.52253324, -0.5492951 ,  0.4809496 ,  0.5483657 ,  0.04943097,\n",
              "          0.3207626 ,  0.10914963, -0.32365534, -0.30668104, -0.11628383,\n",
              "          0.5284066 ,  0.28018963, -0.59944916,  0.1328764 ,  0.38992423,\n",
              "         -0.10798132,  0.259951  ,  0.38888368, -0.11290272, -0.08488771,\n",
              "         -0.30810273, -0.0377217 ,  0.15340224, -0.29402813, -0.63908833,\n",
              "          0.28381073, -0.4204937 ,  0.653036  , -0.37589365,  0.0239878 ,\n",
              "          0.11557332,  0.23831074],\n",
              "        [-0.2537311 , -0.31316718, -0.23897633, -0.23350534,  0.12738901,\n",
              "          0.32233033,  0.08449364, -0.26684982, -0.21222675, -0.02585128,\n",
              "          0.02186123, -0.21145386, -0.29058802,  0.10979381, -0.04264122,\n",
              "          0.04028726,  0.33715722,  0.10436806, -0.04902858,  0.11413148,\n",
              "         -0.12924094,  0.1908035 ,  0.1885452 ,  0.00490707,  0.29301837,\n",
              "          0.17846212, -0.2288504 , -0.17538981, -0.29620576,  0.08056968,\n",
              "         -0.09586528,  0.10242054],\n",
              "        [ 0.3286322 ,  0.3450537 ,  0.01603299,  0.12141579,  0.25148234,\n",
              "          0.26184985, -0.21987446, -0.29495823,  0.15548208, -0.05253789,\n",
              "          0.3363696 , -0.0303368 , -0.07916865, -0.11945707, -0.2511244 ,\n",
              "         -0.0458481 ,  0.11941996,  0.00897527,  0.08640409, -0.22103788,\n",
              "         -0.29208255,  0.2174367 ,  0.01227492, -0.18638095,  0.22141203,\n",
              "         -0.1308094 ,  0.02484834, -0.20006822, -0.33697492,  0.28541026,\n",
              "          0.18287995, -0.18240431],\n",
              "        [ 0.05360842,  0.3144003 , -0.3464067 ,  0.23542967,  0.23563513,\n",
              "         -0.29247636, -0.08988076, -0.06635499,  0.18233612,  0.22116974,\n",
              "         -0.20938706, -0.04217762, -0.06789166, -0.1730623 , -0.00808427,\n",
              "          0.34619555, -0.1049556 , -0.16421053,  0.29567572,  0.01866913,\n",
              "         -0.01970533,  0.06260207,  0.33495763, -0.23346606, -0.10608968,\n",
              "         -0.26727542, -0.340734  , -0.13395819, -0.16430114,  0.04972637,\n",
              "          0.22656956,  0.32268324],\n",
              "        [ 0.16379736, -0.15146582, -0.046524  , -0.17613137, -0.12926006,\n",
              "          0.379872  ,  0.14068389, -0.1950138 ,  0.03115029, -0.12018722,\n",
              "         -0.13351049,  0.23656386,  0.3950794 ,  0.2676324 ,  0.26334468,\n",
              "         -0.2193161 ,  0.09762572,  0.26443008, -0.14081256, -0.3043902 ,\n",
              "         -0.12411573, -0.33967176, -0.29677045, -0.07150728,  0.27476776,\n",
              "         -0.15125586,  0.25081605, -0.05081185,  0.15116802, -0.24969056,\n",
              "         -0.18174782, -0.06754325]], dtype=float32),\n",
              " array([-0.15260206,  0.24349974, -0.07372878, -0.08120642, -0.02402703,\n",
              "        -0.15772298, -0.15613799,  0.        , -0.02120996, -0.01644171,\n",
              "        -0.06200425, -0.17709655,  0.23043074, -0.1648593 , -0.11676244,\n",
              "         0.        , -0.10702131, -0.09159238, -0.01585315,  0.        ,\n",
              "        -0.00256466, -0.03144006,  0.        ,  0.        ,  0.24172811,\n",
              "        -0.01819711,  0.21878666, -0.12182729,  0.23045407,  0.        ,\n",
              "         0.        , -0.15903683], dtype=float32),\n",
              " array([[-0.3907022 ,  0.27558115],\n",
              "        [ 0.49173975, -0.81179094],\n",
              "        [-0.21866654,  0.4269893 ],\n",
              "        [-0.48798352,  0.25896922],\n",
              "        [-0.01561922,  0.1855856 ],\n",
              "        [-0.41947398,  0.23625794],\n",
              "        [-0.33986405,  0.35959774],\n",
              "        [ 0.31681344, -0.2625997 ],\n",
              "        [-0.3074353 ,  0.03795633],\n",
              "        [ 0.0919501 , -0.2690275 ],\n",
              "        [-0.69877565,  0.54201984],\n",
              "        [-0.24964345,  0.3653523 ],\n",
              "        [ 0.4633521 , -0.8753893 ],\n",
              "        [-0.40155804,  0.6735589 ],\n",
              "        [ 0.1001161 ,  0.51293194],\n",
              "        [ 0.3108035 ,  0.15197185],\n",
              "        [-0.46347752,  0.47679365],\n",
              "        [-0.44445574, -0.15165484],\n",
              "        [-0.24253768,  0.00257947],\n",
              "        [-0.27375254,  0.407392  ],\n",
              "        [-0.38292044,  0.24145325],\n",
              "        [-0.12807754, -0.39420697],\n",
              "        [-0.03432462,  0.39457867],\n",
              "        [-0.0664587 , -0.34009928],\n",
              "        [ 0.3427737 , -0.6751999 ],\n",
              "        [ 0.02243376, -0.4011686 ],\n",
              "        [ 0.92539287, -0.57707685],\n",
              "        [-0.37498692,  0.22894298],\n",
              "        [ 0.8244961 , -0.6435156 ],\n",
              "        [-0.04115373,  0.17843762],\n",
              "        [-0.25452214,  0.0823991 ],\n",
              "        [-0.654954  ,  0.0032744 ]], dtype=float32),\n",
              " array([ 0.15543991, -0.15543991], dtype=float32)]"
            ]
          },
          "metadata": {},
          "execution_count": 31
        }
      ]
    },
    {
      "cell_type": "code",
      "source": [
        "new_model.optimizer"
      ],
      "metadata": {
        "colab": {
          "base_uri": "https://localhost:8080/"
        },
        "id": "ioWPQ06QutlW",
        "outputId": "fa6ac491-9702-49ba-f468-4c121ed885ae"
      },
      "execution_count": null,
      "outputs": [
        {
          "output_type": "execute_result",
          "data": {
            "text/plain": [
              "<keras.optimizers.optimizer_v2.adam.Adam at 0x7f05fc934e80>"
            ]
          },
          "metadata": {},
          "execution_count": 32
        }
      ]
    },
    {
      "cell_type": "markdown",
      "source": [
        "## 2. model.to_json()"
      ],
      "metadata": {
        "id": "Tq11ucb_u4ki"
      }
    },
    {
      "cell_type": "markdown",
      "source": [
        "If you only need to save the architecture of a model, and not its weights or its training configuration, you can use the following function to save the architecture only."
      ],
      "metadata": {
        "id": "9zeN9r5Fu-Ha"
      }
    },
    {
      "cell_type": "code",
      "source": [
        "json_string = model.to_json()"
      ],
      "metadata": {
        "id": "Rk_Cz-tNu3GS"
      },
      "execution_count": null,
      "outputs": []
    },
    {
      "cell_type": "code",
      "source": [
        "json_string"
      ],
      "metadata": {
        "colab": {
          "base_uri": "https://localhost:8080/",
          "height": 254
        },
        "id": "O86x8IEovTDa",
        "outputId": "e2b7b202-a797-4350-fb4b-9531a52dfafb"
      },
      "execution_count": null,
      "outputs": [
        {
          "output_type": "execute_result",
          "data": {
            "text/plain": [
              "'{\"class_name\": \"Sequential\", \"config\": {\"name\": \"sequential\", \"layers\": [{\"class_name\": \"InputLayer\", \"config\": {\"batch_input_shape\": [null, 1], \"dtype\": \"float32\", \"sparse\": false, \"ragged\": false, \"name\": \"dense_input\"}}, {\"class_name\": \"Dense\", \"config\": {\"name\": \"dense\", \"trainable\": true, \"batch_input_shape\": [null, 1], \"dtype\": \"float32\", \"units\": 16, \"activation\": \"relu\", \"use_bias\": true, \"kernel_initializer\": {\"class_name\": \"GlorotUniform\", \"config\": {\"seed\": null}}, \"bias_initializer\": {\"class_name\": \"Zeros\", \"config\": {}}, \"kernel_regularizer\": null, \"bias_regularizer\": null, \"activity_regularizer\": null, \"kernel_constraint\": null, \"bias_constraint\": null}}, {\"class_name\": \"Dense\", \"config\": {\"name\": \"dense_1\", \"trainable\": true, \"dtype\": \"float32\", \"units\": 32, \"activation\": \"relu\", \"use_bias\": true, \"kernel_initializer\": {\"class_name\": \"GlorotUniform\", \"config\": {\"seed\": null}}, \"bias_initializer\": {\"class_name\": \"Zeros\", \"config\": {}}, \"kernel_regularizer\": null, \"bias_regularizer\": null, \"activity_regularizer\": null, \"kernel_constraint\": null, \"bias_constraint\": null}}, {\"class_name\": \"Dense\", \"config\": {\"name\": \"dense_2\", \"trainable\": true, \"dtype\": \"float32\", \"units\": 2, \"activation\": \"softmax\", \"use_bias\": true, \"kernel_initializer\": {\"class_name\": \"GlorotUniform\", \"config\": {\"seed\": null}}, \"bias_initializer\": {\"class_name\": \"Zeros\", \"config\": {}}, \"kernel_regularizer\": null, \"bias_regularizer\": null, \"activity_regularizer\": null, \"kernel_constraint\": null, \"bias_constraint\": null}}]}, \"keras_version\": \"2.9.0\", \"backend\": \"tensorflow\"}'"
            ],
            "application/vnd.google.colaboratory.intrinsic+json": {
              "type": "string"
            }
          },
          "metadata": {},
          "execution_count": 34
        }
      ]
    },
    {
      "cell_type": "code",
      "source": [
        "from tensorflow.keras.models import model_from_json\n",
        "model_architecture = model_from_json(json_string)"
      ],
      "metadata": {
        "id": "Wn3lCa_GvU2d"
      },
      "execution_count": null,
      "outputs": []
    },
    {
      "cell_type": "code",
      "source": [
        "model_architecture.summary()"
      ],
      "metadata": {
        "colab": {
          "base_uri": "https://localhost:8080/"
        },
        "id": "8Aaps2bOvhJA",
        "outputId": "8b81e875-270b-4a13-96c7-c241486e1fa0"
      },
      "execution_count": null,
      "outputs": [
        {
          "output_type": "stream",
          "name": "stdout",
          "text": [
            "Model: \"sequential\"\n",
            "_________________________________________________________________\n",
            " Layer (type)                Output Shape              Param #   \n",
            "=================================================================\n",
            " dense (Dense)               (None, 16)                32        \n",
            "                                                                 \n",
            " dense_1 (Dense)             (None, 32)                544       \n",
            "                                                                 \n",
            " dense_2 (Dense)             (None, 2)                 66        \n",
            "                                                                 \n",
            "=================================================================\n",
            "Total params: 642\n",
            "Trainable params: 642\n",
            "Non-trainable params: 0\n",
            "_________________________________________________________________\n"
          ]
        }
      ]
    },
    {
      "cell_type": "markdown",
      "source": [
        "## 3. model.save_weights()\n",
        "\n",
        "If you only neet to save the weights of a model, you can use the following function save the weights only."
      ],
      "metadata": {
        "id": "iQi1-IHBvzUR"
      }
    },
    {
      "cell_type": "code",
      "source": [
        "import os.path\n",
        "if os.path.isfile('models/modical_trial_model.h5') is False:\n",
        "  model.save_weights('models/medical_trial_model.h5')"
      ],
      "metadata": {
        "id": "8sanUKK0vkOK"
      },
      "execution_count": null,
      "outputs": []
    },
    {
      "cell_type": "code",
      "source": [
        "model2 = Sequential([\n",
        "    Dense(units=16, input_shape=(1,), activation='relu'),\n",
        "    Dense(units=32, activation='relu'),\n",
        "    Dense(units=2, activation='softmax')\n",
        "])"
      ],
      "metadata": {
        "id": "PIROzxJuwCu-"
      },
      "execution_count": null,
      "outputs": []
    },
    {
      "cell_type": "code",
      "source": [
        "model2.load_weights('models/medical_trial_model.h5')"
      ],
      "metadata": {
        "id": "FvG5JhsZwkw-"
      },
      "execution_count": null,
      "outputs": []
    },
    {
      "cell_type": "code",
      "source": [
        "model2.get_weights()"
      ],
      "metadata": {
        "colab": {
          "base_uri": "https://localhost:8080/"
        },
        "id": "gTle9rziwwRU",
        "outputId": "629cd467-6a7e-4919-f8c4-cd43de26c780"
      },
      "execution_count": null,
      "outputs": [
        {
          "output_type": "execute_result",
          "data": {
            "text/plain": [
              "[array([[ 0.78073937, -0.15474886, -0.47919387, -0.04037726,  0.5942045 ,\n",
              "          0.38327983, -0.2935008 , -0.11830858,  0.03671318, -0.04939812,\n",
              "          0.26680803,  0.58450526, -0.06480861, -0.34502825, -0.58436614,\n",
              "          0.19896086]], dtype=float32),\n",
              " array([-0.1594721 ,  0.        ,  0.        ,  0.        , -0.1931573 ,\n",
              "        -0.14582227,  0.        ,  0.26577756,  0.23946525,  0.        ,\n",
              "        -0.11335669, -0.18263996,  0.        ,  0.        ,  0.        ,\n",
              "         0.18111831], dtype=float32),\n",
              " array([[ 0.49485216, -0.19393036,  0.43675876,  0.5005491 , -0.24174552,\n",
              "          0.32617298,  0.23437038, -0.10573691, -0.29845503,  0.264466  ,\n",
              "          0.57267237,  0.50282204, -0.09757   ,  0.45743293,  0.37932703,\n",
              "         -0.06939825,  0.37894505,  0.25621003, -0.15061238,  0.09918249,\n",
              "          0.07833668,  0.27873686, -0.03689316, -0.15460779, -0.36034533,\n",
              "         -0.0024633 , -0.28514203,  0.4058762 , -0.4154734 , -0.26097023,\n",
              "         -0.34644887,  0.45871547],\n",
              "        [ 0.21172628,  0.19809863, -0.07066375, -0.11091356,  0.16084698,\n",
              "         -0.20135783,  0.03537056,  0.11685094,  0.16253754,  0.13752112,\n",
              "          0.1857827 , -0.342248  ,  0.10800129, -0.14376163,  0.04954135,\n",
              "         -0.07815856, -0.3006128 , -0.12663914, -0.34143373, -0.3503127 ,\n",
              "         -0.09503946, -0.13699058,  0.08632189, -0.07667851, -0.22788277,\n",
              "         -0.23585486,  0.11724225, -0.03353354,  0.16369268,  0.10437253,\n",
              "          0.35234645, -0.14145182],\n",
              "        [-0.2807529 , -0.04101345, -0.19073547, -0.3482397 , -0.06808385,\n",
              "         -0.27999777,  0.35157946,  0.13451537, -0.13145897, -0.2357038 ,\n",
              "          0.14353135, -0.1345523 , -0.14058991, -0.12083475,  0.18831357,\n",
              "          0.1272394 , -0.32281855, -0.26842198,  0.34081534,  0.13134652,\n",
              "          0.20011458, -0.03948629,  0.04092011,  0.07351035,  0.07065994,\n",
              "         -0.27531856, -0.09288397,  0.267992  , -0.26616037,  0.29238716,\n",
              "         -0.24696115, -0.02129707],\n",
              "        [-0.2077478 ,  0.06526312,  0.11070114, -0.24156702, -0.16589674,\n",
              "          0.11305487, -0.2582608 ,  0.18822774, -0.34640056,  0.15447536,\n",
              "          0.25025544,  0.13982773,  0.34229764,  0.31514463,  0.30212268,\n",
              "          0.19030151,  0.1361194 ,  0.1957958 , -0.25684077, -0.3447587 ,\n",
              "         -0.33241606,  0.05359122, -0.22575437, -0.18954895, -0.216982  ,\n",
              "         -0.22588544, -0.25479218, -0.33609372, -0.30808783,  0.05750954,\n",
              "          0.18263981,  0.30707428],\n",
              "        [ 0.20104176, -0.3527906 ,  0.37695423,  0.50648457, -0.06330061,\n",
              "          0.29410782,  0.50136584, -0.11882579,  0.10171242, -0.11834251,\n",
              "         -0.02827839,  0.32869077, -0.58883506, -0.05220295,  0.2814024 ,\n",
              "         -0.24119005,  0.18036655,  0.12748975, -0.20612262,  0.0539096 ,\n",
              "          0.30998808, -0.1896162 , -0.33738315,  0.35332057, -0.3626494 ,\n",
              "         -0.02176998, -0.37226167,  0.6677323 , -0.19035383, -0.3094972 ,\n",
              "         -0.00831944,  0.36541587],\n",
              "        [ 0.2866152 , -0.48368979,  0.6251199 ,  0.45294732, -0.22793765,\n",
              "          0.16309406,  0.6170627 , -0.09492928, -0.27785504,  0.27031544,\n",
              "          0.3376785 ,  0.03648434, -0.5375648 ,  0.23759209,  0.14295736,\n",
              "          0.09237772,  0.27477834,  0.17008133, -0.29536283, -0.21655446,\n",
              "         -0.3319808 ,  0.23155867, -0.16170186, -0.15169106, -0.5105372 ,\n",
              "          0.27698985, -0.63235706,  0.2632401 , -0.374583  , -0.23140524,\n",
              "          0.3159332 ,  0.3133024 ],\n",
              "        [ 0.20120153,  0.01039207,  0.16409251, -0.32040825, -0.16105567,\n",
              "          0.09344885,  0.2733061 ,  0.08914936,  0.2614437 , -0.10921328,\n",
              "          0.03918925,  0.31602684, -0.06925452,  0.15641859, -0.17663904,\n",
              "          0.14638823, -0.17766489,  0.14730671, -0.05179477,  0.25948653,\n",
              "          0.14312041,  0.0867534 , -0.32115266, -0.29604805, -0.07433203,\n",
              "          0.2918274 , -0.27165717, -0.31082433, -0.14463155,  0.08765391,\n",
              "          0.08691531, -0.16208287],\n",
              "        [ 0.12000554,  0.56517345, -0.01907898, -0.242523  ,  0.2590754 ,\n",
              "         -0.44726986, -0.37767234, -0.293921  , -0.22961073, -0.3235194 ,\n",
              "         -0.01465496, -0.43285412,  0.50359446, -0.22218172, -0.2102194 ,\n",
              "          0.10187957, -0.44787192, -0.4785974 ,  0.00117739, -0.2786785 ,\n",
              "         -0.24192329,  0.1747219 , -0.22203144,  0.11052698,  0.5422402 ,\n",
              "         -0.1203441 ,  0.07847439,  0.16473342,  0.00229222, -0.18909512,\n",
              "         -0.32846397,  0.00514692],\n",
              "        [-0.24946201,  0.40786922, -0.30956924, -0.01405913,  0.21341294,\n",
              "          0.10795242,  0.3405961 ,  0.31588057,  0.2557263 , -0.2116858 ,\n",
              "         -0.25088787,  0.32286617, -0.2013805 ,  0.12495524, -0.18819822,\n",
              "         -0.3110247 ,  0.18564945,  0.06091681,  0.15858483,  0.10104191,\n",
              "          0.11422898, -0.0584475 ,  0.01783848, -0.2065735 ,  0.42278394,\n",
              "         -0.27553624,  0.4345444 , -0.25421798,  0.36719117, -0.1550645 ,\n",
              "          0.21821818,  0.1540809 ],\n",
              "        [-0.15171626,  0.34250894,  0.01767731, -0.27995217, -0.11673969,\n",
              "         -0.2727787 , -0.25713995, -0.27511573,  0.0434657 ,  0.06911349,\n",
              "          0.2987167 , -0.27196476, -0.30084023, -0.12740444,  0.24821451,\n",
              "         -0.22107926,  0.2508023 , -0.02074122, -0.3382276 ,  0.31336823,\n",
              "         -0.01468498, -0.19504052,  0.16442338, -0.06203586, -0.03721818,\n",
              "         -0.32393444, -0.10173061, -0.02549723,  0.1059677 , -0.27426225,\n",
              "         -0.0617094 , -0.04750085],\n",
              "        [ 0.66505   , -0.44241697,  0.38407463,  0.57228553,  0.08882336,\n",
              "          0.41001505,  0.08299696, -0.22753853, -0.21820469,  0.18143465,\n",
              "          0.41454485,  0.6640936 , -0.13920686,  0.46853384,  0.04304146,\n",
              "          0.10290778,  0.648962  ,  0.06300049,  0.06108091,  0.18563274,\n",
              "         -0.23375256,  0.07303969,  0.1456477 , -0.0783633 , -0.6410155 ,\n",
              "         -0.05982141, -0.6726526 ,  0.10089712, -0.5529869 ,  0.30361703,\n",
              "          0.04954639,  0.19518434],\n",
              "        [ 0.52253324, -0.5492951 ,  0.4809496 ,  0.5483657 ,  0.04943097,\n",
              "          0.3207626 ,  0.10914963, -0.32365534, -0.30668104, -0.11628383,\n",
              "          0.5284066 ,  0.28018963, -0.59944916,  0.1328764 ,  0.38992423,\n",
              "         -0.10798132,  0.259951  ,  0.38888368, -0.11290272, -0.08488771,\n",
              "         -0.30810273, -0.0377217 ,  0.15340224, -0.29402813, -0.63908833,\n",
              "          0.28381073, -0.4204937 ,  0.653036  , -0.37589365,  0.0239878 ,\n",
              "          0.11557332,  0.23831074],\n",
              "        [-0.2537311 , -0.31316718, -0.23897633, -0.23350534,  0.12738901,\n",
              "          0.32233033,  0.08449364, -0.26684982, -0.21222675, -0.02585128,\n",
              "          0.02186123, -0.21145386, -0.29058802,  0.10979381, -0.04264122,\n",
              "          0.04028726,  0.33715722,  0.10436806, -0.04902858,  0.11413148,\n",
              "         -0.12924094,  0.1908035 ,  0.1885452 ,  0.00490707,  0.29301837,\n",
              "          0.17846212, -0.2288504 , -0.17538981, -0.29620576,  0.08056968,\n",
              "         -0.09586528,  0.10242054],\n",
              "        [ 0.3286322 ,  0.3450537 ,  0.01603299,  0.12141579,  0.25148234,\n",
              "          0.26184985, -0.21987446, -0.29495823,  0.15548208, -0.05253789,\n",
              "          0.3363696 , -0.0303368 , -0.07916865, -0.11945707, -0.2511244 ,\n",
              "         -0.0458481 ,  0.11941996,  0.00897527,  0.08640409, -0.22103788,\n",
              "         -0.29208255,  0.2174367 ,  0.01227492, -0.18638095,  0.22141203,\n",
              "         -0.1308094 ,  0.02484834, -0.20006822, -0.33697492,  0.28541026,\n",
              "          0.18287995, -0.18240431],\n",
              "        [ 0.05360842,  0.3144003 , -0.3464067 ,  0.23542967,  0.23563513,\n",
              "         -0.29247636, -0.08988076, -0.06635499,  0.18233612,  0.22116974,\n",
              "         -0.20938706, -0.04217762, -0.06789166, -0.1730623 , -0.00808427,\n",
              "          0.34619555, -0.1049556 , -0.16421053,  0.29567572,  0.01866913,\n",
              "         -0.01970533,  0.06260207,  0.33495763, -0.23346606, -0.10608968,\n",
              "         -0.26727542, -0.340734  , -0.13395819, -0.16430114,  0.04972637,\n",
              "          0.22656956,  0.32268324],\n",
              "        [ 0.16379736, -0.15146582, -0.046524  , -0.17613137, -0.12926006,\n",
              "          0.379872  ,  0.14068389, -0.1950138 ,  0.03115029, -0.12018722,\n",
              "         -0.13351049,  0.23656386,  0.3950794 ,  0.2676324 ,  0.26334468,\n",
              "         -0.2193161 ,  0.09762572,  0.26443008, -0.14081256, -0.3043902 ,\n",
              "         -0.12411573, -0.33967176, -0.29677045, -0.07150728,  0.27476776,\n",
              "         -0.15125586,  0.25081605, -0.05081185,  0.15116802, -0.24969056,\n",
              "         -0.18174782, -0.06754325]], dtype=float32),\n",
              " array([-0.15260206,  0.24349974, -0.07372878, -0.08120642, -0.02402703,\n",
              "        -0.15772298, -0.15613799,  0.        , -0.02120996, -0.01644171,\n",
              "        -0.06200425, -0.17709655,  0.23043074, -0.1648593 , -0.11676244,\n",
              "         0.        , -0.10702131, -0.09159238, -0.01585315,  0.        ,\n",
              "        -0.00256466, -0.03144006,  0.        ,  0.        ,  0.24172811,\n",
              "        -0.01819711,  0.21878666, -0.12182729,  0.23045407,  0.        ,\n",
              "         0.        , -0.15903683], dtype=float32),\n",
              " array([[-0.3907022 ,  0.27558115],\n",
              "        [ 0.49173975, -0.81179094],\n",
              "        [-0.21866654,  0.4269893 ],\n",
              "        [-0.48798352,  0.25896922],\n",
              "        [-0.01561922,  0.1855856 ],\n",
              "        [-0.41947398,  0.23625794],\n",
              "        [-0.33986405,  0.35959774],\n",
              "        [ 0.31681344, -0.2625997 ],\n",
              "        [-0.3074353 ,  0.03795633],\n",
              "        [ 0.0919501 , -0.2690275 ],\n",
              "        [-0.69877565,  0.54201984],\n",
              "        [-0.24964345,  0.3653523 ],\n",
              "        [ 0.4633521 , -0.8753893 ],\n",
              "        [-0.40155804,  0.6735589 ],\n",
              "        [ 0.1001161 ,  0.51293194],\n",
              "        [ 0.3108035 ,  0.15197185],\n",
              "        [-0.46347752,  0.47679365],\n",
              "        [-0.44445574, -0.15165484],\n",
              "        [-0.24253768,  0.00257947],\n",
              "        [-0.27375254,  0.407392  ],\n",
              "        [-0.38292044,  0.24145325],\n",
              "        [-0.12807754, -0.39420697],\n",
              "        [-0.03432462,  0.39457867],\n",
              "        [-0.0664587 , -0.34009928],\n",
              "        [ 0.3427737 , -0.6751999 ],\n",
              "        [ 0.02243376, -0.4011686 ],\n",
              "        [ 0.92539287, -0.57707685],\n",
              "        [-0.37498692,  0.22894298],\n",
              "        [ 0.8244961 , -0.6435156 ],\n",
              "        [-0.04115373,  0.17843762],\n",
              "        [-0.25452214,  0.0823991 ],\n",
              "        [-0.654954  ,  0.0032744 ]], dtype=float32),\n",
              " array([ 0.15543991, -0.15543991], dtype=float32)]"
            ]
          },
          "metadata": {},
          "execution_count": 42
        }
      ]
    },
    {
      "cell_type": "code",
      "source": [
        "from google.colab import drive\n",
        "drive.mount('/content/drive')"
      ],
      "metadata": {
        "id": "3-5cA8QsJqsZ"
      },
      "execution_count": null,
      "outputs": []
    },
    {
      "cell_type": "markdown",
      "source": [
        "# Exemplo 7"
      ],
      "metadata": {
        "id": "n1yHPmlfx9X6"
      }
    },
    {
      "cell_type": "markdown",
      "source": [
        "## Convolutional Neural Networks"
      ],
      "metadata": {
        "id": "0X70NiaF7tn4"
      }
    },
    {
      "cell_type": "code",
      "source": [
        "import numpy as np\n",
        "import tensorflow as tf\n",
        "from tensorflow import keras\n",
        "from tensorflow.keras.models import Sequential\n",
        "from tensorflow.keras.layers import Activation, Dense, Flatten, BatchNormalization, Conv2D, MaxPool2D\n",
        "from tensorflow.keras.optimizers import Adam\n",
        "from tensorflow.keras.metrics import categorical_crossentropy\n",
        "from tensorflow.keras.preprocessing.image import ImageDataGenerator\n",
        "from sklearn.metrics import confusion_matrix\n",
        "import itertools\n",
        "import os\n",
        "import shutil\n",
        "import random\n",
        "import glob\n",
        "import matplotlib.pyplot as plt\n",
        "import warnings\n",
        "warnings.simplefilter(action='ignore', category=FutureWarning)\n",
        "%matplotlib inline"
      ],
      "metadata": {
        "id": "8ykToW-2w2C8"
      },
      "execution_count": 1,
      "outputs": []
    },
    {
      "cell_type": "markdown",
      "source": [
        "## Data preparation"
      ],
      "metadata": {
        "id": "Yx3MXmlh9AZP"
      }
    },
    {
      "cell_type": "code",
      "source": [
        "# Organize data into train, valid, test dirs\n",
        "os.chdir('/content/drive/MyDrive/Liveness_Daniel/CNN/dogs-vs-cats')\n",
        "if os.path.isdir('train/dog') is False:\n",
        "  os.makedirs('train/dog')\n",
        "  os.makedirs('train/cat')\n",
        "  os.makedirs('valid/dog')\n",
        "  os.makedirs('valid/cat')\n",
        "  os.makedirs('test/dog')\n",
        "  os.makedirs('test/cat')\n",
        "\n",
        "  for c in random.sample(glob.glob('train/cat*'), 500):\n",
        "    shutil.move(c, 'train/cat')  \n",
        "  for c in random.sample(glob.glob('train/dog*'), 500):\n",
        "    shutil.move(c, 'train/dog')\n",
        "  for c in random.sample(glob.glob('train/cat*'), 100):\n",
        "    shutil.move(c, 'valid/cat')  \n",
        "  for c in random.sample(glob.glob('train/dog*'), 100):\n",
        "    shutil.move(c, 'valid/dog')\n",
        "  for c in random.sample(glob.glob('train/cat*'), 50):\n",
        "    shutil.move(c, 'test/cat')  \n",
        "  for c in random.sample(glob.glob('train/dog*'), 50):\n",
        "    shutil.move(c, 'test/dog')\n",
        "\n",
        "#os.chdir('../../')"
      ],
      "metadata": {
        "id": "hE8_sQ-S83CE"
      },
      "execution_count": 2,
      "outputs": []
    },
    {
      "cell_type": "code",
      "source": [
        "train_path = '/content/drive/MyDrive/Liveness_Daniel/CNN/dogs-vs-cats/train'\n",
        "valid_path = '/content/drive/MyDrive/Liveness_Daniel/CNN/dogs-vs-cats/valid'\n",
        "test_path = '/content/drive/MyDrive/Liveness_Daniel/CNN/dogs-vs-cats/test'"
      ],
      "metadata": {
        "id": "XL8LEJh9Ono4"
      },
      "execution_count": 9,
      "outputs": []
    },
    {
      "cell_type": "code",
      "source": [
        "train_batches = ImageDataGenerator(preprocessing_function=tf.keras.applications.vgg16.preprocess_input) \\\n",
        "                    .flow_from_directory(directory=train_path, target_size=(224,224), classes=['cat','dog'], batch_size=10)\n",
        "valid_batches = ImageDataGenerator(preprocessing_function=tf.keras.applications.vgg16.preprocess_input) \\\n",
        "                    .flow_from_directory(directory=valid_path, target_size=(224,224), classes=['cat','dog'], batch_size=10)\n",
        "test_batches = ImageDataGenerator(preprocessing_function=tf.keras.applications.vgg16.preprocess_input) \\\n",
        "                    .flow_from_directory(directory=test_path, target_size=(224,224), classes=['cat','dog'], batch_size=10, shuffle=False)"
      ],
      "metadata": {
        "colab": {
          "base_uri": "https://localhost:8080/"
        },
        "id": "PeEeUnQuRMtF",
        "outputId": "c115ee6f-6100-48ec-e025-8242f8cb5d0b"
      },
      "execution_count": 10,
      "outputs": [
        {
          "output_type": "stream",
          "name": "stdout",
          "text": [
            "Found 1000 images belonging to 2 classes.\n",
            "Found 200 images belonging to 2 classes.\n",
            "Found 100 images belonging to 2 classes.\n"
          ]
        }
      ]
    },
    {
      "cell_type": "code",
      "source": [
        "assert train_batches.n == 1000\n",
        "assert valid_batches.n == 200\n",
        "assert test_batches.n == 100\n",
        "assert train_batches.num_classes == valid_batches.num_classes == test_batches.num_classes == 2"
      ],
      "metadata": {
        "id": "GuggKlCcRzsA"
      },
      "execution_count": null,
      "outputs": []
    },
    {
      "cell_type": "code",
      "source": [
        "imgs, labels = next(train_batches)"
      ],
      "metadata": {
        "id": "PthVQrF6jwu9"
      },
      "execution_count": 11,
      "outputs": []
    },
    {
      "cell_type": "code",
      "source": [
        "def plotImages(images_arr):\n",
        "  fig, axes = plt.subplots(1,10, figsize=(20,20))\n",
        "  axes = axes.flatten()\n",
        "  for img, ax in zip(images_arr, axes):\n",
        "    ax.imshow(img)\n",
        "    ax.axis('off')\n",
        "  plt.tight_layout()\n",
        "  plt.show()"
      ],
      "metadata": {
        "id": "miCu5iZEkBKM"
      },
      "execution_count": 12,
      "outputs": []
    },
    {
      "cell_type": "code",
      "source": [
        "plotImages(imgs)\n",
        "print(labels)"
      ],
      "metadata": {
        "id": "oRy50sYGkiKl",
        "colab": {
          "base_uri": "https://localhost:8080/",
          "height": 492
        },
        "outputId": "22a1f825-ee97-4e18-f98f-22f45d743ba1"
      },
      "execution_count": 13,
      "outputs": [
        {
          "output_type": "stream",
          "name": "stderr",
          "text": [
            "WARNING:matplotlib.image:Clipping input data to the valid range for imshow with RGB data ([0..1] for floats or [0..255] for integers).\n",
            "WARNING:matplotlib.image:Clipping input data to the valid range for imshow with RGB data ([0..1] for floats or [0..255] for integers).\n",
            "WARNING:matplotlib.image:Clipping input data to the valid range for imshow with RGB data ([0..1] for floats or [0..255] for integers).\n",
            "WARNING:matplotlib.image:Clipping input data to the valid range for imshow with RGB data ([0..1] for floats or [0..255] for integers).\n",
            "WARNING:matplotlib.image:Clipping input data to the valid range for imshow with RGB data ([0..1] for floats or [0..255] for integers).\n",
            "WARNING:matplotlib.image:Clipping input data to the valid range for imshow with RGB data ([0..1] for floats or [0..255] for integers).\n",
            "WARNING:matplotlib.image:Clipping input data to the valid range for imshow with RGB data ([0..1] for floats or [0..255] for integers).\n",
            "WARNING:matplotlib.image:Clipping input data to the valid range for imshow with RGB data ([0..1] for floats or [0..255] for integers).\n",
            "WARNING:matplotlib.image:Clipping input data to the valid range for imshow with RGB data ([0..1] for floats or [0..255] for integers).\n",
            "WARNING:matplotlib.image:Clipping input data to the valid range for imshow with RGB data ([0..1] for floats or [0..255] for integers).\n"
          ]
        },
        {
          "output_type": "display_data",
          "data": {
            "text/plain": [
              "<Figure size 1440x1440 with 10 Axes>"
            ],
            "image/png": "[encoded data removed]"
          },
          "metadata": {
            "needs_background": "light"
          }
        },
        {
          "output_type": "stream",
          "name": "stdout",
          "text": [
            "[[0. 1.]\n",
            " [1. 0.]\n",
            " [0. 1.]\n",
            " [0. 1.]\n",
            " [1. 0.]\n",
            " [0. 1.]\n",
            " [1. 0.]\n",
            " [0. 1.]\n",
            " [0. 1.]\n",
            " [1. 0.]]\n"
          ]
        }
      ]
    },
    {
      "cell_type": "markdown",
      "source": [
        "## Build and train a CNN"
      ],
      "metadata": {
        "id": "aw6RgVY2W8ai"
      }
    },
    {
      "cell_type": "code",
      "source": [
        "model = Sequential([\n",
        "        Conv2D(filters=32, kernel_size=(3,3), activation='relu', padding='same', input_shape=(224,224,3)),\n",
        "        MaxPool2D(pool_size=(2,2), strides=2),\n",
        "        Conv2D(filters=64, kernel_size=(3,3), activation='relu', padding='same'),\n",
        "        MaxPool2D(pool_size=(2,2), strides=2),\n",
        "        Flatten(),\n",
        "        Dense(units=2, activation='softmax'),\n",
        "])"
      ],
      "metadata": {
        "id": "xNR2EF8GkqRd"
      },
      "execution_count": 14,
      "outputs": []
    },
    {
      "cell_type": "code",
      "source": [
        "model.summary()"
      ],
      "metadata": {
        "colab": {
          "base_uri": "https://localhost:8080/"
        },
        "id": "dljG3xtwX62X",
        "outputId": "98439de6-a32a-4325-9785-1a91d468f313"
      },
      "execution_count": 15,
      "outputs": [
        {
          "output_type": "stream",
          "name": "stdout",
          "text": [
            "Model: \"sequential\"\n",
            "_________________________________________________________________\n",
            " Layer (type)                Output Shape              Param #   \n",
            "=================================================================\n",
            " conv2d (Conv2D)             (None, 224, 224, 32)      896       \n",
            "                                                                 \n",
            " max_pooling2d (MaxPooling2D  (None, 112, 112, 32)     0         \n",
            " )                                                               \n",
            "                                                                 \n",
            " conv2d_1 (Conv2D)           (None, 112, 112, 64)      18496     \n",
            "                                                                 \n",
            " max_pooling2d_1 (MaxPooling  (None, 56, 56, 64)       0         \n",
            " 2D)                                                             \n",
            "                                                                 \n",
            " flatten (Flatten)           (None, 200704)            0         \n",
            "                                                                 \n",
            " dense (Dense)               (None, 2)                 401410    \n",
            "                                                                 \n",
            "=================================================================\n",
            "Total params: 420,802\n",
            "Trainable params: 420,802\n",
            "Non-trainable params: 0\n",
            "_________________________________________________________________\n"
          ]
        }
      ]
    },
    {
      "cell_type": "code",
      "source": [
        "model.compile(optimizer=Adam(learning_rate=0.0001), loss='categorical_crossentropy', metrics=['accuracy'])"
      ],
      "metadata": {
        "id": "A-G-xZNiX8GE"
      },
      "execution_count": 16,
      "outputs": []
    },
    {
      "cell_type": "code",
      "source": [
        "model.fit(x=train_batches, validation_data=valid_batches, epochs=10, verbose=2)"
      ],
      "metadata": {
        "id": "ArIJ1_D2YXI9",
        "colab": {
          "base_uri": "https://localhost:8080/"
        },
        "outputId": "406fc2c5-4122-42d9-e6bb-6a3cca7aed6e"
      },
      "execution_count": 17,
      "outputs": [
        {
          "output_type": "stream",
          "name": "stdout",
          "text": [
            "Epoch 1/10\n",
            "100/100 - 534s - loss: 19.3118 - accuracy: 0.5820 - val_loss: 16.2356 - val_accuracy: 0.6050 - 534s/epoch - 5s/step\n",
            "Epoch 2/10\n",
            "100/100 - 58s - loss: 4.2256 - accuracy: 0.7360 - val_loss: 4.5376 - val_accuracy: 0.6150 - 58s/epoch - 576ms/step\n",
            "Epoch 3/10\n",
            "100/100 - 55s - loss: 1.0580 - accuracy: 0.8640 - val_loss: 2.8325 - val_accuracy: 0.6800 - 55s/epoch - 549ms/step\n",
            "Epoch 4/10\n",
            "100/100 - 57s - loss: 0.1536 - accuracy: 0.9620 - val_loss: 2.9021 - val_accuracy: 0.7000 - 57s/epoch - 572ms/step\n",
            "Epoch 5/10\n",
            "100/100 - 55s - loss: 0.0271 - accuracy: 0.9910 - val_loss: 3.1338 - val_accuracy: 0.6500 - 55s/epoch - 546ms/step\n",
            "Epoch 6/10\n",
            "100/100 - 57s - loss: 0.0095 - accuracy: 0.9970 - val_loss: 2.9759 - val_accuracy: 0.6750 - 57s/epoch - 569ms/step\n",
            "Epoch 7/10\n",
            "100/100 - 56s - loss: 0.0033 - accuracy: 0.9990 - val_loss: 2.9513 - val_accuracy: 0.6800 - 56s/epoch - 559ms/step\n",
            "Epoch 8/10\n",
            "100/100 - 56s - loss: 8.5990e-04 - accuracy: 1.0000 - val_loss: 2.9205 - val_accuracy: 0.6750 - 56s/epoch - 559ms/step\n",
            "Epoch 9/10\n",
            "100/100 - 57s - loss: 3.0047e-04 - accuracy: 1.0000 - val_loss: 2.9783 - val_accuracy: 0.6800 - 57s/epoch - 572ms/step\n",
            "Epoch 10/10\n",
            "100/100 - 55s - loss: 2.3308e-04 - accuracy: 1.0000 - val_loss: 2.9742 - val_accuracy: 0.6800 - 55s/epoch - 546ms/step\n"
          ]
        },
        {
          "output_type": "execute_result",
          "data": {
            "text/plain": [
              "<keras.callbacks.History at 0x7f269c156640>"
            ]
          },
          "metadata": {},
          "execution_count": 17
        }
      ]
    },
    {
      "cell_type": "markdown",
      "source": [
        "## Predict"
      ],
      "metadata": {
        "id": "ToaaCg43eKm2"
      }
    },
    {
      "cell_type": "code",
      "source": [
        "test_imgs, test_labels = next(test_batches)\n",
        "plotImages(test_imgs)\n",
        "print(test_labels)"
      ],
      "metadata": {
        "id": "vxILITZJfWxY",
        "colab": {
          "base_uri": "https://localhost:8080/",
          "height": 492
        },
        "outputId": "249287fb-b873-4231-f9e4-64527167f66e"
      },
      "execution_count": 18,
      "outputs": [
        {
          "output_type": "stream",
          "name": "stderr",
          "text": [
            "WARNING:matplotlib.image:Clipping input data to the valid range for imshow with RGB data ([0..1] for floats or [0..255] for integers).\n",
            "WARNING:matplotlib.image:Clipping input data to the valid range for imshow with RGB data ([0..1] for floats or [0..255] for integers).\n",
            "WARNING:matplotlib.image:Clipping input data to the valid range for imshow with RGB data ([0..1] for floats or [0..255] for integers).\n",
            "WARNING:matplotlib.image:Clipping input data to the valid range for imshow with RGB data ([0..1] for floats or [0..255] for integers).\n",
            "WARNING:matplotlib.image:Clipping input data to the valid range for imshow with RGB data ([0..1] for floats or [0..255] for integers).\n",
            "WARNING:matplotlib.image:Clipping input data to the valid range for imshow with RGB data ([0..1] for floats or [0..255] for integers).\n",
            "WARNING:matplotlib.image:Clipping input data to the valid range for imshow with RGB data ([0..1] for floats or [0..255] for integers).\n",
            "WARNING:matplotlib.image:Clipping input data to the valid range for imshow with RGB data ([0..1] for floats or [0..255] for integers).\n",
            "WARNING:matplotlib.image:Clipping input data to the valid range for imshow with RGB data ([0..1] for floats or [0..255] for integers).\n",
            "WARNING:matplotlib.image:Clipping input data to the valid range for imshow with RGB data ([0..1] for floats or [0..255] for integers).\n"
          ]
        },
        {
          "output_type": "display_data",
          "data": {
            "text/plain": [
              "<Figure size 1440x1440 with 10 Axes>"
            ],
            "image/png": "[encoded data removed]"
          },
          "metadata": {
            "needs_background": "light"
          }
        },
        {
          "output_type": "stream",
          "name": "stdout",
          "text": [
            "[[1. 0.]\n",
            " [1. 0.]\n",
            " [1. 0.]\n",
            " [1. 0.]\n",
            " [1. 0.]\n",
            " [1. 0.]\n",
            " [1. 0.]\n",
            " [1. 0.]\n",
            " [1. 0.]\n",
            " [1. 0.]]\n"
          ]
        }
      ]
    },
    {
      "cell_type": "code",
      "source": [
        "test_batches.classes"
      ],
      "metadata": {
        "colab": {
          "base_uri": "https://localhost:8080/"
        },
        "id": "ZX40a-CCfcSY",
        "outputId": "185c8e33-8a6a-4f1c-f671-8d9841a39671"
      },
      "execution_count": 19,
      "outputs": [
        {
          "output_type": "execute_result",
          "data": {
            "text/plain": [
              "array([0, 0, 0, 0, 0, 0, 0, 0, 0, 0, 0, 0, 0, 0, 0, 0, 0, 0, 0, 0, 0, 0,\n",
              "       0, 0, 0, 0, 0, 0, 0, 0, 0, 0, 0, 0, 0, 0, 0, 0, 0, 0, 0, 0, 0, 0,\n",
              "       0, 0, 0, 0, 0, 0, 1, 1, 1, 1, 1, 1, 1, 1, 1, 1, 1, 1, 1, 1, 1, 1,\n",
              "       1, 1, 1, 1, 1, 1, 1, 1, 1, 1, 1, 1, 1, 1, 1, 1, 1, 1, 1, 1, 1, 1,\n",
              "       1, 1, 1, 1, 1, 1, 1, 1, 1, 1, 1, 1], dtype=int32)"
            ]
          },
          "metadata": {},
          "execution_count": 19
        }
      ]
    },
    {
      "cell_type": "code",
      "source": [
        "predictions = model.predict(x=test_batches, verbose=0)"
      ],
      "metadata": {
        "id": "md6FJzN8fl71"
      },
      "execution_count": 20,
      "outputs": []
    },
    {
      "cell_type": "code",
      "source": [
        "np.round(predictions)"
      ],
      "metadata": {
        "id": "GSNV8rfvfs9t",
        "colab": {
          "base_uri": "https://localhost:8080/"
        },
        "outputId": "7e7120c8-6016-4659-e1ea-1378a41aa81b"
      },
      "execution_count": 21,
      "outputs": [
        {
          "output_type": "execute_result",
          "data": {
            "text/plain": [
              "array([[1., 0.],\n",
              "       [1., 0.],\n",
              "       [0., 1.],\n",
              "       [0., 1.],\n",
              "       [1., 0.],\n",
              "       [0., 1.],\n",
              "       [1., 0.],\n",
              "       [0., 1.],\n",
              "       [1., 0.],\n",
              "       [1., 0.],\n",
              "       [0., 1.],\n",
              "       [1., 0.],\n",
              "       [0., 1.],\n",
              "       [0., 1.],\n",
              "       [1., 0.],\n",
              "       [1., 0.],\n",
              "       [1., 0.],\n",
              "       [0., 1.],\n",
              "       [1., 0.],\n",
              "       [0., 1.],\n",
              "       [0., 1.],\n",
              "       [1., 0.],\n",
              "       [0., 1.],\n",
              "       [0., 1.],\n",
              "       [1., 0.],\n",
              "       [1., 0.],\n",
              "       [0., 1.],\n",
              "       [1., 0.],\n",
              "       [1., 0.],\n",
              "       [1., 0.],\n",
              "       [1., 0.],\n",
              "       [1., 0.],\n",
              "       [0., 1.],\n",
              "       [0., 1.],\n",
              "       [1., 0.],\n",
              "       [1., 0.],\n",
              "       [1., 0.],\n",
              "       [0., 1.],\n",
              "       [0., 1.],\n",
              "       [0., 1.],\n",
              "       [1., 0.],\n",
              "       [1., 0.],\n",
              "       [1., 0.],\n",
              "       [0., 1.],\n",
              "       [1., 0.],\n",
              "       [0., 1.],\n",
              "       [1., 0.],\n",
              "       [0., 1.],\n",
              "       [1., 0.],\n",
              "       [0., 1.],\n",
              "       [0., 1.],\n",
              "       [0., 1.],\n",
              "       [1., 0.],\n",
              "       [0., 1.],\n",
              "       [1., 0.],\n",
              "       [0., 1.],\n",
              "       [1., 0.],\n",
              "       [1., 0.],\n",
              "       [0., 1.],\n",
              "       [0., 1.],\n",
              "       [1., 0.],\n",
              "       [0., 1.],\n",
              "       [1., 0.],\n",
              "       [0., 1.],\n",
              "       [0., 1.],\n",
              "       [0., 1.],\n",
              "       [0., 1.],\n",
              "       [1., 0.],\n",
              "       [0., 1.],\n",
              "       [0., 1.],\n",
              "       [1., 0.],\n",
              "       [1., 0.],\n",
              "       [0., 1.],\n",
              "       [1., 0.],\n",
              "       [0., 1.],\n",
              "       [1., 0.],\n",
              "       [0., 1.],\n",
              "       [0., 1.],\n",
              "       [0., 1.],\n",
              "       [0., 1.],\n",
              "       [0., 1.],\n",
              "       [1., 0.],\n",
              "       [0., 1.],\n",
              "       [0., 1.],\n",
              "       [0., 1.],\n",
              "       [0., 1.],\n",
              "       [0., 1.],\n",
              "       [0., 1.],\n",
              "       [0., 1.],\n",
              "       [1., 0.],\n",
              "       [1., 0.],\n",
              "       [1., 0.],\n",
              "       [0., 1.],\n",
              "       [0., 1.],\n",
              "       [0., 1.],\n",
              "       [1., 0.],\n",
              "       [1., 0.],\n",
              "       [1., 0.],\n",
              "       [0., 1.],\n",
              "       [0., 1.]], dtype=float32)"
            ]
          },
          "metadata": {},
          "execution_count": 21
        }
      ]
    },
    {
      "cell_type": "code",
      "source": [
        "cm = confusion_matrix(y_true = test_batches.classes, y_pred=np.argmax(predictions, axis=-1))"
      ],
      "metadata": {
        "id": "qmReGqZdfxP1"
      },
      "execution_count": 22,
      "outputs": []
    },
    {
      "cell_type": "code",
      "source": [
        "def plot_confusion_matrix(cm, classes,\n",
        "                          normalize=False,\n",
        "                          title='Confusion matrix',\n",
        "                          cmap=plt.cm.Blues):\n",
        "    \"\"\"\n",
        "    This function prints and plots the confusion matrix.\n",
        "    Normalization can be applied by setting `normalize=True`.\n",
        "    \"\"\"\n",
        "    plt.imshow(cm, interpolation='nearest', cmap=cmap)\n",
        "    plt.title(title)\n",
        "    plt.colorbar()\n",
        "    tick_marks = np.arange(len(classes))\n",
        "    plt.xticks(tick_marks, classes, rotation=45)\n",
        "    plt.yticks(tick_marks, classes)\n",
        "\n",
        "    if normalize:\n",
        "        cm = cm.astype('float') / cm.sum(axis=1)[:, np.newaxis]\n",
        "        print(\"Normalized confusion matrix\")\n",
        "    else:\n",
        "        print('Confusion matrix, without normalization')\n",
        "\n",
        "    print(cm)\n",
        "\n",
        "    thresh = cm.max() / 2.\n",
        "    for i, j in itertools.product(range(cm.shape[0]), range(cm.shape[1])):\n",
        "        plt.text(j, i, cm[i, j],\n",
        "                 horizontalalignment=\"center\",\n",
        "                 color=\"white\" if cm[i, j] > thresh else \"black\")\n",
        "\n",
        "    plt.tight_layout()\n",
        "    plt.ylabel('True label')\n",
        "    plt.xlabel('Predicted label')"
      ],
      "metadata": {
        "id": "bcD94q1df9Lm"
      },
      "execution_count": 23,
      "outputs": []
    },
    {
      "cell_type": "code",
      "source": [
        "test_batches.class_indices"
      ],
      "metadata": {
        "id": "qoLOxdWMgGCZ",
        "colab": {
          "base_uri": "https://localhost:8080/"
        },
        "outputId": "6bec74e4-faf6-4979-d396-ad4aad19f83b"
      },
      "execution_count": 24,
      "outputs": [
        {
          "output_type": "execute_result",
          "data": {
            "text/plain": [
              "{'cat': 0, 'dog': 1}"
            ]
          },
          "metadata": {},
          "execution_count": 24
        }
      ]
    },
    {
      "cell_type": "code",
      "source": [
        "cm_plot_labels = ['cat', 'dog']\n",
        "plot_confusion_matrix(cm=cm, classes=cm_plot_labels, title='Confusion Matrix')"
      ],
      "metadata": {
        "id": "GiJlNGclh6El",
        "colab": {
          "base_uri": "https://localhost:8080/",
          "height": 365
        },
        "outputId": "76480eda-b205-45cd-de61-001b1d861d6e"
      },
      "execution_count": 25,
      "outputs": [
        {
          "output_type": "stream",
          "name": "stdout",
          "text": [
            "Confusion matrix, without normalization\n",
            "[[28 22]\n",
            " [18 32]]\n"
          ]
        },
        {
          "output_type": "display_data",
          "data": {
            "text/plain": [
              "<Figure size 432x288 with 2 Axes>"
            ],
            "image/png": "[encoded data removed]"
          },
          "metadata": {
            "needs_background": "light"
          }
        }
      ]
    },
    {
      "cell_type": "markdown",
      "source": [
        "## Build Fine-tuned VGG16 model"
      ],
      "metadata": {
        "id": "c-yp5VQaeM00"
      }
    },
    {
      "cell_type": "code",
      "source": [
        "# Dowload model - Internet connection needed\n",
        "vgg16_model = tf.keras.applications.vgg16.VGG16()"
      ],
      "metadata": {
        "colab": {
          "base_uri": "https://localhost:8080/"
        },
        "id": "UP1gWV4NeOsa",
        "outputId": "84b82d1b-749b-4d61-8e3e-f6226be48183"
      },
      "execution_count": 26,
      "outputs": [
        {
          "output_type": "stream",
          "name": "stdout",
          "text": [
            "Downloading data from https://storage.googleapis.com/tensorflow/keras-applications/vgg16/vgg16_weights_tf_dim_ordering_tf_kernels.h5\n",
            "553467096/553467096 [==============================] - 14s 0us/step\n"
          ]
        }
      ]
    },
    {
      "cell_type": "code",
      "source": [
        "vgg16_model.summary()"
      ],
      "metadata": {
        "colab": {
          "base_uri": "https://localhost:8080/"
        },
        "id": "xyN-HTfDfyZ0",
        "outputId": "51631ee6-18d5-4f99-bc3b-136f82600462"
      },
      "execution_count": 27,
      "outputs": [
        {
          "output_type": "stream",
          "name": "stdout",
          "text": [
            "Model: \"vgg16\"\n",
            "_________________________________________________________________\n",
            " Layer (type)                Output Shape              Param #   \n",
            "=================================================================\n",
            " input_1 (InputLayer)        [(None, 224, 224, 3)]     0         \n",
            "                                                                 \n",
            " block1_conv1 (Conv2D)       (None, 224, 224, 64)      1792      \n",
            "                                                                 \n",
            " block1_conv2 (Conv2D)       (None, 224, 224, 64)      36928     \n",
            "                                                                 \n",
            " block1_pool (MaxPooling2D)  (None, 112, 112, 64)      0         \n",
            "                                                                 \n",
            " block2_conv1 (Conv2D)       (None, 112, 112, 128)     73856     \n",
            "                                                                 \n",
            " block2_conv2 (Conv2D)       (None, 112, 112, 128)     147584    \n",
            "                                                                 \n",
            " block2_pool (MaxPooling2D)  (None, 56, 56, 128)       0         \n",
            "                                                                 \n",
            " block3_conv1 (Conv2D)       (None, 56, 56, 256)       295168    \n",
            "                                                                 \n",
            " block3_conv2 (Conv2D)       (None, 56, 56, 256)       590080    \n",
            "                                                                 \n",
            " block3_conv3 (Conv2D)       (None, 56, 56, 256)       590080    \n",
            "                                                                 \n",
            " block3_pool (MaxPooling2D)  (None, 28, 28, 256)       0         \n",
            "                                                                 \n",
            " block4_conv1 (Conv2D)       (None, 28, 28, 512)       1180160   \n",
            "                                                                 \n",
            " block4_conv2 (Conv2D)       (None, 28, 28, 512)       2359808   \n",
            "                                                                 \n",
            " block4_conv3 (Conv2D)       (None, 28, 28, 512)       2359808   \n",
            "                                                                 \n",
            " block4_pool (MaxPooling2D)  (None, 14, 14, 512)       0         \n",
            "                                                                 \n",
            " block5_conv1 (Conv2D)       (None, 14, 14, 512)       2359808   \n",
            "                                                                 \n",
            " block5_conv2 (Conv2D)       (None, 14, 14, 512)       2359808   \n",
            "                                                                 \n",
            " block5_conv3 (Conv2D)       (None, 14, 14, 512)       2359808   \n",
            "                                                                 \n",
            " block5_pool (MaxPooling2D)  (None, 7, 7, 512)         0         \n",
            "                                                                 \n",
            " flatten (Flatten)           (None, 25088)             0         \n",
            "                                                                 \n",
            " fc1 (Dense)                 (None, 4096)              102764544 \n",
            "                                                                 \n",
            " fc2 (Dense)                 (None, 4096)              16781312  \n",
            "                                                                 \n",
            " predictions (Dense)         (None, 1000)              4097000   \n",
            "                                                                 \n",
            "=================================================================\n",
            "Total params: 138,357,544\n",
            "Trainable params: 138,357,544\n",
            "Non-trainable params: 0\n",
            "_________________________________________________________________\n"
          ]
        }
      ]
    },
    {
      "cell_type": "code",
      "source": [
        "type(vgg16_model)"
      ],
      "metadata": {
        "colab": {
          "base_uri": "https://localhost:8080/"
        },
        "id": "QsiRxaatg99i",
        "outputId": "2b98bf3c-b6d6-411c-aa6b-9da26e994750"
      },
      "execution_count": 28,
      "outputs": [
        {
          "output_type": "execute_result",
          "data": {
            "text/plain": [
              "keras.engine.functional.Functional"
            ]
          },
          "metadata": {},
          "execution_count": 28
        }
      ]
    },
    {
      "cell_type": "code",
      "source": [
        "model = Sequential()\n",
        "for layer in vgg16_model.layers[:-1]:\n",
        "  model.add(layer)"
      ],
      "metadata": {
        "id": "MTOZWzxRgbRU"
      },
      "execution_count": 29,
      "outputs": []
    },
    {
      "cell_type": "code",
      "source": [
        "model.summary()"
      ],
      "metadata": {
        "colab": {
          "base_uri": "https://localhost:8080/"
        },
        "id": "7JVpM9UKhGQp",
        "outputId": "979bbca8-f578-40a8-dc31-d81d03881959"
      },
      "execution_count": 30,
      "outputs": [
        {
          "output_type": "stream",
          "name": "stdout",
          "text": [
            "Model: \"sequential_1\"\n",
            "_________________________________________________________________\n",
            " Layer (type)                Output Shape              Param #   \n",
            "=================================================================\n",
            " block1_conv1 (Conv2D)       (None, 224, 224, 64)      1792      \n",
            "                                                                 \n",
            " block1_conv2 (Conv2D)       (None, 224, 224, 64)      36928     \n",
            "                                                                 \n",
            " block1_pool (MaxPooling2D)  (None, 112, 112, 64)      0         \n",
            "                                                                 \n",
            " block2_conv1 (Conv2D)       (None, 112, 112, 128)     73856     \n",
            "                                                                 \n",
            " block2_conv2 (Conv2D)       (None, 112, 112, 128)     147584    \n",
            "                                                                 \n",
            " block2_pool (MaxPooling2D)  (None, 56, 56, 128)       0         \n",
            "                                                                 \n",
            " block3_conv1 (Conv2D)       (None, 56, 56, 256)       295168    \n",
            "                                                                 \n",
            " block3_conv2 (Conv2D)       (None, 56, 56, 256)       590080    \n",
            "                                                                 \n",
            " block3_conv3 (Conv2D)       (None, 56, 56, 256)       590080    \n",
            "                                                                 \n",
            " block3_pool (MaxPooling2D)  (None, 28, 28, 256)       0         \n",
            "                                                                 \n",
            " block4_conv1 (Conv2D)       (None, 28, 28, 512)       1180160   \n",
            "                                                                 \n",
            " block4_conv2 (Conv2D)       (None, 28, 28, 512)       2359808   \n",
            "                                                                 \n",
            " block4_conv3 (Conv2D)       (None, 28, 28, 512)       2359808   \n",
            "                                                                 \n",
            " block4_pool (MaxPooling2D)  (None, 14, 14, 512)       0         \n",
            "                                                                 \n",
            " block5_conv1 (Conv2D)       (None, 14, 14, 512)       2359808   \n",
            "                                                                 \n",
            " block5_conv2 (Conv2D)       (None, 14, 14, 512)       2359808   \n",
            "                                                                 \n",
            " block5_conv3 (Conv2D)       (None, 14, 14, 512)       2359808   \n",
            "                                                                 \n",
            " block5_pool (MaxPooling2D)  (None, 7, 7, 512)         0         \n",
            "                                                                 \n",
            " flatten (Flatten)           (None, 25088)             0         \n",
            "                                                                 \n",
            " fc1 (Dense)                 (None, 4096)              102764544 \n",
            "                                                                 \n",
            " fc2 (Dense)                 (None, 4096)              16781312  \n",
            "                                                                 \n",
            "=================================================================\n",
            "Total params: 134,260,544\n",
            "Trainable params: 134,260,544\n",
            "Non-trainable params: 0\n",
            "_________________________________________________________________\n"
          ]
        }
      ]
    },
    {
      "cell_type": "code",
      "source": [
        "for layer in model.layers:\n",
        "  layer.trainable = False"
      ],
      "metadata": {
        "id": "wMEyxJ8RhI7O"
      },
      "execution_count": 31,
      "outputs": []
    },
    {
      "cell_type": "code",
      "source": [
        "model.add(Dense(units=2, activation='softmax'))"
      ],
      "metadata": {
        "id": "YPZ63aC1hjwj"
      },
      "execution_count": 32,
      "outputs": []
    },
    {
      "cell_type": "code",
      "source": [
        "model.summary()"
      ],
      "metadata": {
        "colab": {
          "base_uri": "https://localhost:8080/"
        },
        "id": "MhrPLrC5hl9w",
        "outputId": "b286409a-32e5-4266-abff-3048fc8658b2"
      },
      "execution_count": 33,
      "outputs": [
        {
          "output_type": "stream",
          "name": "stdout",
          "text": [
            "Model: \"sequential_1\"\n",
            "_________________________________________________________________\n",
            " Layer (type)                Output Shape              Param #   \n",
            "=================================================================\n",
            " block1_conv1 (Conv2D)       (None, 224, 224, 64)      1792      \n",
            "                                                                 \n",
            " block1_conv2 (Conv2D)       (None, 224, 224, 64)      36928     \n",
            "                                                                 \n",
            " block1_pool (MaxPooling2D)  (None, 112, 112, 64)      0         \n",
            "                                                                 \n",
            " block2_conv1 (Conv2D)       (None, 112, 112, 128)     73856     \n",
            "                                                                 \n",
            " block2_conv2 (Conv2D)       (None, 112, 112, 128)     147584    \n",
            "                                                                 \n",
            " block2_pool (MaxPooling2D)  (None, 56, 56, 128)       0         \n",
            "                                                                 \n",
            " block3_conv1 (Conv2D)       (None, 56, 56, 256)       295168    \n",
            "                                                                 \n",
            " block3_conv2 (Conv2D)       (None, 56, 56, 256)       590080    \n",
            "                                                                 \n",
            " block3_conv3 (Conv2D)       (None, 56, 56, 256)       590080    \n",
            "                                                                 \n",
            " block3_pool (MaxPooling2D)  (None, 28, 28, 256)       0         \n",
            "                                                                 \n",
            " block4_conv1 (Conv2D)       (None, 28, 28, 512)       1180160   \n",
            "                                                                 \n",
            " block4_conv2 (Conv2D)       (None, 28, 28, 512)       2359808   \n",
            "                                                                 \n",
            " block4_conv3 (Conv2D)       (None, 28, 28, 512)       2359808   \n",
            "                                                                 \n",
            " block4_pool (MaxPooling2D)  (None, 14, 14, 512)       0         \n",
            "                                                                 \n",
            " block5_conv1 (Conv2D)       (None, 14, 14, 512)       2359808   \n",
            "                                                                 \n",
            " block5_conv2 (Conv2D)       (None, 14, 14, 512)       2359808   \n",
            "                                                                 \n",
            " block5_conv3 (Conv2D)       (None, 14, 14, 512)       2359808   \n",
            "                                                                 \n",
            " block5_pool (MaxPooling2D)  (None, 7, 7, 512)         0         \n",
            "                                                                 \n",
            " flatten (Flatten)           (None, 25088)             0         \n",
            "                                                                 \n",
            " fc1 (Dense)                 (None, 4096)              102764544 \n",
            "                                                                 \n",
            " fc2 (Dense)                 (None, 4096)              16781312  \n",
            "                                                                 \n",
            " dense_1 (Dense)             (None, 2)                 8194      \n",
            "                                                                 \n",
            "=================================================================\n",
            "Total params: 134,268,738\n",
            "Trainable params: 8,194\n",
            "Non-trainable params: 134,260,544\n",
            "_________________________________________________________________\n"
          ]
        }
      ]
    },
    {
      "cell_type": "markdown",
      "source": [
        "## Train the fine-tuned VGG16 model"
      ],
      "metadata": {
        "id": "ble4OpBviNIU"
      }
    },
    {
      "cell_type": "code",
      "source": [
        "model.compile(optimizer=Adam(learning_rate=0.0001), loss='categorical_crossentropy', metrics=['accuracy'])"
      ],
      "metadata": {
        "id": "nTBZUCAahuDP"
      },
      "execution_count": 34,
      "outputs": []
    },
    {
      "cell_type": "code",
      "source": [
        "model.fit(x=train_batches, validation_data=valid_batches, epochs=5, verbose=2)"
      ],
      "metadata": {
        "id": "SCJRVWzXifvh",
        "colab": {
          "base_uri": "https://localhost:8080/"
        },
        "outputId": "912b5e7a-b49d-4c1f-a637-73a9cb869d48"
      },
      "execution_count": 35,
      "outputs": [
        {
          "output_type": "stream",
          "name": "stdout",
          "text": [
            "Epoch 1/5\n",
            "100/100 - 483s - loss: 0.3265 - accuracy: 0.8460 - val_loss: 0.1310 - val_accuracy: 0.9450 - 483s/epoch - 5s/step\n",
            "Epoch 2/5\n",
            "100/100 - 481s - loss: 0.0916 - accuracy: 0.9620 - val_loss: 0.0957 - val_accuracy: 0.9600 - 481s/epoch - 5s/step\n",
            "Epoch 3/5\n",
            "100/100 - 476s - loss: 0.0574 - accuracy: 0.9820 - val_loss: 0.0760 - val_accuracy: 0.9600 - 476s/epoch - 5s/step\n",
            "Epoch 4/5\n",
            "100/100 - 477s - loss: 0.0408 - accuracy: 0.9910 - val_loss: 0.0698 - val_accuracy: 0.9700 - 477s/epoch - 5s/step\n",
            "Epoch 5/5\n",
            "100/100 - 477s - loss: 0.0300 - accuracy: 0.9920 - val_loss: 0.0646 - val_accuracy: 0.9700 - 477s/epoch - 5s/step\n"
          ]
        },
        {
          "output_type": "execute_result",
          "data": {
            "text/plain": [
              "<keras.callbacks.History at 0x7f269a59be20>"
            ]
          },
          "metadata": {},
          "execution_count": 35
        }
      ]
    },
    {
      "cell_type": "markdown",
      "source": [
        "## Predict using fine-tuned VGG16 model"
      ],
      "metadata": {
        "id": "0Z2W0oE2jtQC"
      }
    },
    {
      "cell_type": "code",
      "source": [
        "predictions = model.predict(x=test_batches, verbose=0)"
      ],
      "metadata": {
        "id": "8acW-oQQisHr"
      },
      "execution_count": 40,
      "outputs": []
    },
    {
      "cell_type": "code",
      "source": [
        "test_batches.classes"
      ],
      "metadata": {
        "id": "zHgz1jzyj20z",
        "colab": {
          "base_uri": "https://localhost:8080/"
        },
        "outputId": "7af8a0d9-1a79-44c2-d39a-c28eb0146c15"
      },
      "execution_count": 41,
      "outputs": [
        {
          "output_type": "execute_result",
          "data": {
            "text/plain": [
              "array([0, 0, 0, 0, 0, 0, 0, 0, 0, 0, 0, 0, 0, 0, 0, 0, 0, 0, 0, 0, 0, 0,\n",
              "       0, 0, 0, 0, 0, 0, 0, 0, 0, 0, 0, 0, 0, 0, 0, 0, 0, 0, 0, 0, 0, 0,\n",
              "       0, 0, 0, 0, 0, 0, 1, 1, 1, 1, 1, 1, 1, 1, 1, 1, 1, 1, 1, 1, 1, 1,\n",
              "       1, 1, 1, 1, 1, 1, 1, 1, 1, 1, 1, 1, 1, 1, 1, 1, 1, 1, 1, 1, 1, 1,\n",
              "       1, 1, 1, 1, 1, 1, 1, 1, 1, 1, 1, 1], dtype=int32)"
            ]
          },
          "metadata": {},
          "execution_count": 41
        }
      ]
    },
    {
      "cell_type": "code",
      "source": [
        "cm = confusion_matrix(y_true=test_batches.classes, y_pred=np.argmax(predictions, axis=-1))"
      ],
      "metadata": {
        "id": "-INSjFJOj6Mb"
      },
      "execution_count": 42,
      "outputs": []
    },
    {
      "cell_type": "code",
      "source": [
        "test_batches.class_indices"
      ],
      "metadata": {
        "id": "3FdWyrcgj6Ch",
        "colab": {
          "base_uri": "https://localhost:8080/"
        },
        "outputId": "2be8fc16-ef8d-4801-fc55-572e6f24b66a"
      },
      "execution_count": 43,
      "outputs": [
        {
          "output_type": "execute_result",
          "data": {
            "text/plain": [
              "{'cat': 0, 'dog': 1}"
            ]
          },
          "metadata": {},
          "execution_count": 43
        }
      ]
    },
    {
      "cell_type": "code",
      "source": [
        "cm_plot_labels = ['cat', 'dog']\n",
        "plot_confusion_matrix(cm=cm, classes=cm_plot_labels, title='Confusion Matrix')"
      ],
      "metadata": {
        "id": "VzM8cT0TkNbz",
        "colab": {
          "base_uri": "https://localhost:8080/",
          "height": 365
        },
        "outputId": "ba574469-2812-4d37-b2fe-163cb7c05556"
      },
      "execution_count": 44,
      "outputs": [
        {
          "output_type": "stream",
          "name": "stdout",
          "text": [
            "Confusion matrix, without normalization\n",
            "[[48  2]\n",
            " [ 3 47]]\n"
          ]
        },
        {
          "output_type": "display_data",
          "data": {
            "text/plain": [
              "<Figure size 432x288 with 2 Axes>"
            ],
            "image/png": "[encoded data removed]"
          },
          "metadata": {
            "needs_background": "light"
          }
        }
      ]
    }
  ]
}