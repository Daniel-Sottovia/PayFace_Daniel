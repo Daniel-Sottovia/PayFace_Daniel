{
  "cells": [
    {
      "cell_type": "markdown",
      "metadata": {
        "id": "view-in-github",
        "colab_type": "text"
      },
      "source": [
        "<a href=\"https://colab.research.google.com/github/Daniel-Sottovia/PayFace_Daniel/blob/main/VGG16_02_01_23.ipynb\" target=\"_parent\"><img src=\"https://colab.research.google.com/assets/colab-badge.svg\" alt=\"Open In Colab\"/></a>"
      ]
    },
    {
      "cell_type": "markdown",
      "metadata": {
        "id": "TZZY-ivT2wlr"
      },
      "source": [
        "# VGG16"
      ]
    },
    {
      "cell_type": "markdown",
      "metadata": {
        "id": "QhVctw2kxQ2f"
      },
      "source": [
        "## Data Preparation"
      ]
    },
    {
      "cell_type": "code",
      "execution_count": 20,
      "metadata": {
        "id": "PSWi2jCvxWvV"
      },
      "outputs": [],
      "source": [
        "import numpy as np\n",
        "import tensorflow as tf\n",
        "from tensorflow import keras\n",
        "from tensorflow.keras.models import Sequential\n",
        "from tensorflow.keras.layers import Activation, Dense, Flatten, BatchNormalization, Conv2D, MaxPool2D\n",
        "from tensorflow.keras.optimizers import Adam\n",
        "from tensorflow.keras.metrics import categorical_crossentropy\n",
        "from tensorflow.keras.preprocessing.image import ImageDataGenerator\n",
        "from sklearn.metrics import confusion_matrix\n",
        "import itertools\n",
        "import os\n",
        "import shutil\n",
        "import random\n",
        "import glob\n",
        "import matplotlib.pyplot as plt\n",
        "import warnings\n",
        "warnings.simplefilter(action='ignore', category=FutureWarning)\n",
        "%matplotlib inline"
      ]
    },
    {
      "cell_type": "markdown",
      "source": [
        "Vamos dividir os dados em 3 grupos: **train**, **valid** e **test**:\n",
        "\n",
        "\n",
        "*   **train**: 1000 imagens\n",
        "*   **valid**: 200 imagens\n",
        "*   **test**: 100 imagens\n",
        "\n"
      ],
      "metadata": {
        "id": "_Zvow4Vx1WUR"
      }
    },
    {
      "cell_type": "code",
      "execution_count": 21,
      "metadata": {
        "id": "dtHUZqwExca-"
      },
      "outputs": [],
      "source": [
        "# Organize data into train, valid, test dirs\n",
        "os.chdir('/content/drive/MyDrive/Liveness_Daniel/CNN/msu')\n",
        "if os.path.isdir('train') is False:\n",
        "  os.makedirs('train/attack')\n",
        "  os.makedirs('train/real')\n",
        "  os.makedirs('valid/attack')\n",
        "  os.makedirs('valid/real')\n",
        "  os.makedirs('test/attack')\n",
        "  os.makedirs('test/real')\n",
        "\n",
        "  for c in random.sample(glob.glob('attack-imgs/attack*'), 500):\n",
        "    shutil.move(c, 'train/attack')  \n",
        "  for c in random.sample(glob.glob('real-imgs/real*'), 500):\n",
        "    shutil.move(c, 'train/real')\n",
        "  for c in random.sample(glob.glob('attack-imgs/attack*'), 100):\n",
        "    shutil.move(c, 'valid/attack')  \n",
        "  for c in random.sample(glob.glob('real-imgs/real*'), 100):\n",
        "    shutil.move(c, 'valid/real')\n",
        "  for c in random.sample(glob.glob('attack-imgs/attack*'), 50):\n",
        "    shutil.move(c, 'test/attack')  \n",
        "  for c in random.sample(glob.glob('real-imgs/real*'), 50):\n",
        "    shutil.move(c, 'test/real')\n",
        "\n",
        "os.chdir('../../')"
      ]
    },
    {
      "cell_type": "code",
      "execution_count": 22,
      "metadata": {
        "id": "wD2fDvej7I18"
      },
      "outputs": [],
      "source": [
        "train_path = '/content/drive/MyDrive/Liveness_Daniel/CNN/msu/train'\n",
        "valid_path = '/content/drive/MyDrive/Liveness_Daniel/CNN/msu/valid'\n",
        "test_path = '/content/drive/MyDrive/Liveness_Daniel/CNN/msu/test'"
      ]
    },
    {
      "cell_type": "code",
      "execution_count": 23,
      "metadata": {
        "colab": {
          "base_uri": "https://localhost:8080/"
        },
        "id": "1kwhIAVe7R3c",
        "outputId": "1ce8bf86-b427-4afc-e524-693dd7be3570"
      },
      "outputs": [
        {
          "output_type": "stream",
          "name": "stdout",
          "text": [
            "Found 1000 images belonging to 2 classes.\n",
            "Found 200 images belonging to 2 classes.\n",
            "Found 100 images belonging to 2 classes.\n"
          ]
        }
      ],
      "source": [
        "train_batches = ImageDataGenerator(preprocessing_function=tf.keras.applications.vgg16.preprocess_input) \\\n",
        "                    .flow_from_directory(directory=train_path, target_size=(224,224), classes=['attack','real'], batch_size=10)\n",
        "valid_batches = ImageDataGenerator(preprocessing_function=tf.keras.applications.vgg16.preprocess_input) \\\n",
        "                    .flow_from_directory(directory=valid_path, target_size=(224,224), classes=['attack','real'], batch_size=10)\n",
        "test_batches = ImageDataGenerator(preprocessing_function=tf.keras.applications.vgg16.preprocess_input) \\\n",
        "                    .flow_from_directory(directory=test_path, target_size=(224,224), classes=['attack','real'], batch_size=10, shuffle=False)"
      ]
    },
    {
      "cell_type": "code",
      "execution_count": 24,
      "metadata": {
        "id": "Ed48hqid7esw"
      },
      "outputs": [],
      "source": [
        "imgs, labels = next(train_batches)"
      ]
    },
    {
      "cell_type": "code",
      "execution_count": 25,
      "metadata": {
        "id": "ZdcB-py17u5v"
      },
      "outputs": [],
      "source": [
        "def plotImages(images_arr):\n",
        "  fig, axes = plt.subplots(1,10, figsize=(20,20))\n",
        "  axes = axes.flatten()\n",
        "  for img, ax in zip(images_arr, axes):\n",
        "    ax.imshow(img)\n",
        "    ax.axis('off')\n",
        "  plt.tight_layout()\n",
        "  plt.show()"
      ]
    },
    {
      "cell_type": "code",
      "execution_count": 26,
      "metadata": {
        "colab": {
          "base_uri": "https://localhost:8080/",
          "height": 0
        },
        "id": "nPmn7NkB7yRt",
        "outputId": "84d8d656-f0e9-4502-9501-98f1b9727473"
      },
      "outputs": [
        {
          "output_type": "stream",
          "name": "stderr",
          "text": [
            "WARNING:matplotlib.image:Clipping input data to the valid range for imshow with RGB data ([0..1] for floats or [0..255] for integers).\n",
            "WARNING:matplotlib.image:Clipping input data to the valid range for imshow with RGB data ([0..1] for floats or [0..255] for integers).\n",
            "WARNING:matplotlib.image:Clipping input data to the valid range for imshow with RGB data ([0..1] for floats or [0..255] for integers).\n",
            "WARNING:matplotlib.image:Clipping input data to the valid range for imshow with RGB data ([0..1] for floats or [0..255] for integers).\n",
            "WARNING:matplotlib.image:Clipping input data to the valid range for imshow with RGB data ([0..1] for floats or [0..255] for integers).\n",
            "WARNING:matplotlib.image:Clipping input data to the valid range for imshow with RGB data ([0..1] for floats or [0..255] for integers).\n",
            "WARNING:matplotlib.image:Clipping input data to the valid range for imshow with RGB data ([0..1] for floats or [0..255] for integers).\n",
            "WARNING:matplotlib.image:Clipping input data to the valid range for imshow with RGB data ([0..1] for floats or [0..255] for integers).\n",
            "WARNING:matplotlib.image:Clipping input data to the valid range for imshow with RGB data ([0..1] for floats or [0..255] for integers).\n",
            "WARNING:matplotlib.image:Clipping input data to the valid range for imshow with RGB data ([0..1] for floats or [0..255] for integers).\n"
          ]
        },
        {
          "output_type": "display_data",
          "data": {
            "text/plain": [
              "<Figure size 1440x1440 with 10 Axes>"
            ],
            "image/png": "[encoded data removed]"
          },
          "metadata": {
            "needs_background": "light"
          }
        },
        {
          "output_type": "stream",
          "name": "stdout",
          "text": [
            "[[1. 0.]\n",
            " [1. 0.]\n",
            " [0. 1.]\n",
            " [1. 0.]\n",
            " [0. 1.]\n",
            " [1. 0.]\n",
            " [0. 1.]\n",
            " [1. 0.]\n",
            " [0. 1.]\n",
            " [0. 1.]]\n"
          ]
        }
      ],
      "source": [
        "plotImages(imgs)\n",
        "print(labels)"
      ]
    },
    {
      "cell_type": "markdown",
      "metadata": {
        "id": "vD2z9QjhCDuW"
      },
      "source": [
        "## Build Fine-tuned VGG16 model"
      ]
    },
    {
      "cell_type": "code",
      "execution_count": 27,
      "metadata": {
        "id": "Dy8k6sxCCMT2"
      },
      "outputs": [],
      "source": [
        "# Dowload model - Internet connection needed\n",
        "vgg16_model = tf.keras.applications.vgg16.VGG16()"
      ]
    },
    {
      "cell_type": "code",
      "execution_count": 28,
      "metadata": {
        "colab": {
          "base_uri": "https://localhost:8080/"
        },
        "id": "1uOUAmHzEFnJ",
        "outputId": "98ae1e42-ddd6-4561-940e-364a40a4efa8"
      },
      "outputs": [
        {
          "output_type": "stream",
          "name": "stdout",
          "text": [
            "Model: \"vgg16\"\n",
            "_________________________________________________________________\n",
            " Layer (type)                Output Shape              Param #   \n",
            "=================================================================\n",
            " input_2 (InputLayer)        [(None, 224, 224, 3)]     0         \n",
            "                                                                 \n",
            " block1_conv1 (Conv2D)       (None, 224, 224, 64)      1792      \n",
            "                                                                 \n",
            " block1_conv2 (Conv2D)       (None, 224, 224, 64)      36928     \n",
            "                                                                 \n",
            " block1_pool (MaxPooling2D)  (None, 112, 112, 64)      0         \n",
            "                                                                 \n",
            " block2_conv1 (Conv2D)       (None, 112, 112, 128)     73856     \n",
            "                                                                 \n",
            " block2_conv2 (Conv2D)       (None, 112, 112, 128)     147584    \n",
            "                                                                 \n",
            " block2_pool (MaxPooling2D)  (None, 56, 56, 128)       0         \n",
            "                                                                 \n",
            " block3_conv1 (Conv2D)       (None, 56, 56, 256)       295168    \n",
            "                                                                 \n",
            " block3_conv2 (Conv2D)       (None, 56, 56, 256)       590080    \n",
            "                                                                 \n",
            " block3_conv3 (Conv2D)       (None, 56, 56, 256)       590080    \n",
            "                                                                 \n",
            " block3_pool (MaxPooling2D)  (None, 28, 28, 256)       0         \n",
            "                                                                 \n",
            " block4_conv1 (Conv2D)       (None, 28, 28, 512)       1180160   \n",
            "                                                                 \n",
            " block4_conv2 (Conv2D)       (None, 28, 28, 512)       2359808   \n",
            "                                                                 \n",
            " block4_conv3 (Conv2D)       (None, 28, 28, 512)       2359808   \n",
            "                                                                 \n",
            " block4_pool (MaxPooling2D)  (None, 14, 14, 512)       0         \n",
            "                                                                 \n",
            " block5_conv1 (Conv2D)       (None, 14, 14, 512)       2359808   \n",
            "                                                                 \n",
            " block5_conv2 (Conv2D)       (None, 14, 14, 512)       2359808   \n",
            "                                                                 \n",
            " block5_conv3 (Conv2D)       (None, 14, 14, 512)       2359808   \n",
            "                                                                 \n",
            " block5_pool (MaxPooling2D)  (None, 7, 7, 512)         0         \n",
            "                                                                 \n",
            " flatten (Flatten)           (None, 25088)             0         \n",
            "                                                                 \n",
            " fc1 (Dense)                 (None, 4096)              102764544 \n",
            "                                                                 \n",
            " fc2 (Dense)                 (None, 4096)              16781312  \n",
            "                                                                 \n",
            " predictions (Dense)         (None, 1000)              4097000   \n",
            "                                                                 \n",
            "=================================================================\n",
            "Total params: 138,357,544\n",
            "Trainable params: 138,357,544\n",
            "Non-trainable params: 0\n",
            "_________________________________________________________________\n"
          ]
        }
      ],
      "source": [
        "vgg16_model.summary()"
      ]
    },
    {
      "cell_type": "code",
      "execution_count": 29,
      "metadata": {
        "colab": {
          "base_uri": "https://localhost:8080/"
        },
        "id": "LwtXFkITEQPj",
        "outputId": "ac0da707-7c64-4adc-9393-f8d0a82f1c54"
      },
      "outputs": [
        {
          "output_type": "execute_result",
          "data": {
            "text/plain": [
              "keras.engine.functional.Functional"
            ]
          },
          "metadata": {},
          "execution_count": 29
        }
      ],
      "source": [
        "type(vgg16_model)"
      ]
    },
    {
      "cell_type": "code",
      "execution_count": 30,
      "metadata": {
        "id": "0VCUuFPdEyRD"
      },
      "outputs": [],
      "source": [
        "model = Sequential()\n",
        "for layer in vgg16_model.layers[:-1]:\n",
        "  model.add(layer)"
      ]
    },
    {
      "cell_type": "code",
      "execution_count": 31,
      "metadata": {
        "colab": {
          "base_uri": "https://localhost:8080/"
        },
        "id": "sCNIxHVnE33S",
        "outputId": "5be92c01-2fae-463a-e34b-b660a7cd2c3a"
      },
      "outputs": [
        {
          "output_type": "stream",
          "name": "stdout",
          "text": [
            "Model: \"sequential_1\"\n",
            "_________________________________________________________________\n",
            " Layer (type)                Output Shape              Param #   \n",
            "=================================================================\n",
            " block1_conv1 (Conv2D)       (None, 224, 224, 64)      1792      \n",
            "                                                                 \n",
            " block1_conv2 (Conv2D)       (None, 224, 224, 64)      36928     \n",
            "                                                                 \n",
            " block1_pool (MaxPooling2D)  (None, 112, 112, 64)      0         \n",
            "                                                                 \n",
            " block2_conv1 (Conv2D)       (None, 112, 112, 128)     73856     \n",
            "                                                                 \n",
            " block2_conv2 (Conv2D)       (None, 112, 112, 128)     147584    \n",
            "                                                                 \n",
            " block2_pool (MaxPooling2D)  (None, 56, 56, 128)       0         \n",
            "                                                                 \n",
            " block3_conv1 (Conv2D)       (None, 56, 56, 256)       295168    \n",
            "                                                                 \n",
            " block3_conv2 (Conv2D)       (None, 56, 56, 256)       590080    \n",
            "                                                                 \n",
            " block3_conv3 (Conv2D)       (None, 56, 56, 256)       590080    \n",
            "                                                                 \n",
            " block3_pool (MaxPooling2D)  (None, 28, 28, 256)       0         \n",
            "                                                                 \n",
            " block4_conv1 (Conv2D)       (None, 28, 28, 512)       1180160   \n",
            "                                                                 \n",
            " block4_conv2 (Conv2D)       (None, 28, 28, 512)       2359808   \n",
            "                                                                 \n",
            " block4_conv3 (Conv2D)       (None, 28, 28, 512)       2359808   \n",
            "                                                                 \n",
            " block4_pool (MaxPooling2D)  (None, 14, 14, 512)       0         \n",
            "                                                                 \n",
            " block5_conv1 (Conv2D)       (None, 14, 14, 512)       2359808   \n",
            "                                                                 \n",
            " block5_conv2 (Conv2D)       (None, 14, 14, 512)       2359808   \n",
            "                                                                 \n",
            " block5_conv3 (Conv2D)       (None, 14, 14, 512)       2359808   \n",
            "                                                                 \n",
            " block5_pool (MaxPooling2D)  (None, 7, 7, 512)         0         \n",
            "                                                                 \n",
            " flatten (Flatten)           (None, 25088)             0         \n",
            "                                                                 \n",
            " fc1 (Dense)                 (None, 4096)              102764544 \n",
            "                                                                 \n",
            " fc2 (Dense)                 (None, 4096)              16781312  \n",
            "                                                                 \n",
            "=================================================================\n",
            "Total params: 134,260,544\n",
            "Trainable params: 134,260,544\n",
            "Non-trainable params: 0\n",
            "_________________________________________________________________\n"
          ]
        }
      ],
      "source": [
        "model.summary()"
      ]
    },
    {
      "cell_type": "markdown",
      "source": [
        "A seguir iremos setar quais camadas serão treinadas e quais não serão."
      ],
      "metadata": {
        "id": "bwJ67ZO0046c"
      }
    },
    {
      "cell_type": "code",
      "execution_count": 32,
      "metadata": {
        "id": "uDnuRclrFn26"
      },
      "outputs": [],
      "source": [
        "cont = 0\n",
        "for layer in model.layers:\n",
        "  layer.trainable = False\n",
        "  cont += 1\n",
        "  if cont >= 17:\n",
        "    break"
      ]
    },
    {
      "cell_type": "code",
      "execution_count": 33,
      "metadata": {
        "colab": {
          "base_uri": "https://localhost:8080/"
        },
        "id": "VxV2YjSAF0_J",
        "outputId": "e10dfb0f-95a3-4c55-a1d6-9a92bd84e40c"
      },
      "outputs": [
        {
          "output_type": "stream",
          "name": "stdout",
          "text": [
            "Model: \"sequential_1\"\n",
            "_________________________________________________________________\n",
            " Layer (type)                Output Shape              Param #   \n",
            "=================================================================\n",
            " block1_conv1 (Conv2D)       (None, 224, 224, 64)      1792      \n",
            "                                                                 \n",
            " block1_conv2 (Conv2D)       (None, 224, 224, 64)      36928     \n",
            "                                                                 \n",
            " block1_pool (MaxPooling2D)  (None, 112, 112, 64)      0         \n",
            "                                                                 \n",
            " block2_conv1 (Conv2D)       (None, 112, 112, 128)     73856     \n",
            "                                                                 \n",
            " block2_conv2 (Conv2D)       (None, 112, 112, 128)     147584    \n",
            "                                                                 \n",
            " block2_pool (MaxPooling2D)  (None, 56, 56, 128)       0         \n",
            "                                                                 \n",
            " block3_conv1 (Conv2D)       (None, 56, 56, 256)       295168    \n",
            "                                                                 \n",
            " block3_conv2 (Conv2D)       (None, 56, 56, 256)       590080    \n",
            "                                                                 \n",
            " block3_conv3 (Conv2D)       (None, 56, 56, 256)       590080    \n",
            "                                                                 \n",
            " block3_pool (MaxPooling2D)  (None, 28, 28, 256)       0         \n",
            "                                                                 \n",
            " block4_conv1 (Conv2D)       (None, 28, 28, 512)       1180160   \n",
            "                                                                 \n",
            " block4_conv2 (Conv2D)       (None, 28, 28, 512)       2359808   \n",
            "                                                                 \n",
            " block4_conv3 (Conv2D)       (None, 28, 28, 512)       2359808   \n",
            "                                                                 \n",
            " block4_pool (MaxPooling2D)  (None, 14, 14, 512)       0         \n",
            "                                                                 \n",
            " block5_conv1 (Conv2D)       (None, 14, 14, 512)       2359808   \n",
            "                                                                 \n",
            " block5_conv2 (Conv2D)       (None, 14, 14, 512)       2359808   \n",
            "                                                                 \n",
            " block5_conv3 (Conv2D)       (None, 14, 14, 512)       2359808   \n",
            "                                                                 \n",
            " block5_pool (MaxPooling2D)  (None, 7, 7, 512)         0         \n",
            "                                                                 \n",
            " flatten (Flatten)           (None, 25088)             0         \n",
            "                                                                 \n",
            " fc1 (Dense)                 (None, 4096)              102764544 \n",
            "                                                                 \n",
            " fc2 (Dense)                 (None, 4096)              16781312  \n",
            "                                                                 \n",
            "=================================================================\n",
            "Total params: 134,260,544\n",
            "Trainable params: 119,545,856\n",
            "Non-trainable params: 14,714,688\n",
            "_________________________________________________________________\n"
          ]
        }
      ],
      "source": [
        "model.summary()"
      ]
    },
    {
      "cell_type": "code",
      "execution_count": 34,
      "metadata": {
        "id": "csDNtnwKLYiT"
      },
      "outputs": [],
      "source": [
        "model.add(Dense(units=2, activation='softmax'))"
      ]
    },
    {
      "cell_type": "code",
      "execution_count": 35,
      "metadata": {
        "colab": {
          "base_uri": "https://localhost:8080/"
        },
        "id": "WNL6h247Dy7b",
        "outputId": "0f30dab9-c47e-4017-b9d2-48207c6857df"
      },
      "outputs": [
        {
          "output_type": "stream",
          "name": "stdout",
          "text": [
            "Model: \"sequential_1\"\n",
            "_________________________________________________________________\n",
            " Layer (type)                Output Shape              Param #   \n",
            "=================================================================\n",
            " block1_conv1 (Conv2D)       (None, 224, 224, 64)      1792      \n",
            "                                                                 \n",
            " block1_conv2 (Conv2D)       (None, 224, 224, 64)      36928     \n",
            "                                                                 \n",
            " block1_pool (MaxPooling2D)  (None, 112, 112, 64)      0         \n",
            "                                                                 \n",
            " block2_conv1 (Conv2D)       (None, 112, 112, 128)     73856     \n",
            "                                                                 \n",
            " block2_conv2 (Conv2D)       (None, 112, 112, 128)     147584    \n",
            "                                                                 \n",
            " block2_pool (MaxPooling2D)  (None, 56, 56, 128)       0         \n",
            "                                                                 \n",
            " block3_conv1 (Conv2D)       (None, 56, 56, 256)       295168    \n",
            "                                                                 \n",
            " block3_conv2 (Conv2D)       (None, 56, 56, 256)       590080    \n",
            "                                                                 \n",
            " block3_conv3 (Conv2D)       (None, 56, 56, 256)       590080    \n",
            "                                                                 \n",
            " block3_pool (MaxPooling2D)  (None, 28, 28, 256)       0         \n",
            "                                                                 \n",
            " block4_conv1 (Conv2D)       (None, 28, 28, 512)       1180160   \n",
            "                                                                 \n",
            " block4_conv2 (Conv2D)       (None, 28, 28, 512)       2359808   \n",
            "                                                                 \n",
            " block4_conv3 (Conv2D)       (None, 28, 28, 512)       2359808   \n",
            "                                                                 \n",
            " block4_pool (MaxPooling2D)  (None, 14, 14, 512)       0         \n",
            "                                                                 \n",
            " block5_conv1 (Conv2D)       (None, 14, 14, 512)       2359808   \n",
            "                                                                 \n",
            " block5_conv2 (Conv2D)       (None, 14, 14, 512)       2359808   \n",
            "                                                                 \n",
            " block5_conv3 (Conv2D)       (None, 14, 14, 512)       2359808   \n",
            "                                                                 \n",
            " block5_pool (MaxPooling2D)  (None, 7, 7, 512)         0         \n",
            "                                                                 \n",
            " flatten (Flatten)           (None, 25088)             0         \n",
            "                                                                 \n",
            " fc1 (Dense)                 (None, 4096)              102764544 \n",
            "                                                                 \n",
            " fc2 (Dense)                 (None, 4096)              16781312  \n",
            "                                                                 \n",
            " dense_1 (Dense)             (None, 2)                 8194      \n",
            "                                                                 \n",
            "=================================================================\n",
            "Total params: 134,268,738\n",
            "Trainable params: 119,554,050\n",
            "Non-trainable params: 14,714,688\n",
            "_________________________________________________________________\n"
          ]
        }
      ],
      "source": [
        "model.summary()"
      ]
    },
    {
      "cell_type": "markdown",
      "metadata": {
        "id": "kzQRQcOHMnRM"
      },
      "source": [
        "## Train the fine-tuned VGG16 model"
      ]
    },
    {
      "cell_type": "markdown",
      "source": [
        "Há modificações a se fazer sobre as **metrics** a serem usada e o modelo de **loss**"
      ],
      "metadata": {
        "id": "4EQJV-z_0tVc"
      }
    },
    {
      "cell_type": "code",
      "execution_count": 36,
      "metadata": {
        "id": "fCPakzFHD62E"
      },
      "outputs": [],
      "source": [
        "model.compile(optimizer=Adam(learning_rate=0.0001), loss='categorical_crossentropy', metrics=['accuracy'])"
      ]
    },
    {
      "cell_type": "markdown",
      "source": [
        "Demorou 56 minutos para fazer o treinamento."
      ],
      "metadata": {
        "id": "tw4P5WY61RRs"
      }
    },
    {
      "cell_type": "code",
      "execution_count": 37,
      "metadata": {
        "colab": {
          "base_uri": "https://localhost:8080/"
        },
        "id": "_1Fzo0p_MvA0",
        "outputId": "2549dafb-664a-4c96-834d-5f2216eec9d2"
      },
      "outputs": [
        {
          "output_type": "stream",
          "name": "stdout",
          "text": [
            "Epoch 1/5\n",
            "100/100 - 490s - loss: 0.1680 - accuracy: 0.9830 - val_loss: 1.6366e-06 - val_accuracy: 1.0000 - 490s/epoch - 5s/step\n",
            "Epoch 2/5\n",
            "100/100 - 477s - loss: 5.2571e-08 - accuracy: 1.0000 - val_loss: 8.9407e-09 - val_accuracy: 1.0000 - 477s/epoch - 5s/step\n",
            "Epoch 3/5\n",
            "100/100 - 473s - loss: 5.7220e-09 - accuracy: 1.0000 - val_loss: 4.1723e-09 - val_accuracy: 1.0000 - 473s/epoch - 5s/step\n",
            "Epoch 4/5\n",
            "100/100 - 472s - loss: 3.3379e-09 - accuracy: 1.0000 - val_loss: 4.1723e-09 - val_accuracy: 1.0000 - 472s/epoch - 5s/step\n",
            "Epoch 5/5\n",
            "100/100 - 475s - loss: 2.6226e-09 - accuracy: 1.0000 - val_loss: 3.5763e-09 - val_accuracy: 1.0000 - 475s/epoch - 5s/step\n"
          ]
        },
        {
          "output_type": "execute_result",
          "data": {
            "text/plain": [
              "<keras.callbacks.History at 0x7fc9dd134d90>"
            ]
          },
          "metadata": {},
          "execution_count": 37
        }
      ],
      "source": [
        "model.fit(x=train_batches, validation_data=valid_batches, epochs=5, verbose=2)"
      ]
    },
    {
      "cell_type": "markdown",
      "source": [
        "Para vizualizar os novos pesos do modelo:"
      ],
      "metadata": {
        "id": "O7PqTyvaPsA7"
      }
    },
    {
      "cell_type": "code",
      "source": [
        "model.get_weights()"
      ],
      "metadata": {
        "id": "79SV5FBDPmOc"
      },
      "execution_count": null,
      "outputs": []
    },
    {
      "cell_type": "markdown",
      "source": [
        "## Predict using fine-tuned VGG16 model"
      ],
      "metadata": {
        "id": "H3LwN_s7n43Q"
      }
    },
    {
      "cell_type": "code",
      "source": [
        "predictions = model.predict(x=test_batches, verbose=0)"
      ],
      "metadata": {
        "id": "12ne-Sd6n9b3"
      },
      "execution_count": 39,
      "outputs": []
    },
    {
      "cell_type": "code",
      "source": [
        "test_batches.classes"
      ],
      "metadata": {
        "colab": {
          "base_uri": "https://localhost:8080/"
        },
        "id": "wouMPuhpn_jf",
        "outputId": "3e7cf9c3-293c-4899-894e-8b302faac6ef"
      },
      "execution_count": 40,
      "outputs": [
        {
          "output_type": "execute_result",
          "data": {
            "text/plain": [
              "array([0, 0, 0, 0, 0, 0, 0, 0, 0, 0, 0, 0, 0, 0, 0, 0, 0, 0, 0, 0, 0, 0,\n",
              "       0, 0, 0, 0, 0, 0, 0, 0, 0, 0, 0, 0, 0, 0, 0, 0, 0, 0, 0, 0, 0, 0,\n",
              "       0, 0, 0, 0, 0, 0, 1, 1, 1, 1, 1, 1, 1, 1, 1, 1, 1, 1, 1, 1, 1, 1,\n",
              "       1, 1, 1, 1, 1, 1, 1, 1, 1, 1, 1, 1, 1, 1, 1, 1, 1, 1, 1, 1, 1, 1,\n",
              "       1, 1, 1, 1, 1, 1, 1, 1, 1, 1, 1, 1], dtype=int32)"
            ]
          },
          "metadata": {},
          "execution_count": 40
        }
      ]
    },
    {
      "cell_type": "markdown",
      "source": [
        "Conseguiremos visualizar como está saindo as previsões do modelo."
      ],
      "metadata": {
        "id": "YuDdI3UvPEoM"
      }
    },
    {
      "cell_type": "code",
      "source": [
        "for i in predictions:\n",
        "  print(i)"
      ],
      "metadata": {
        "colab": {
          "base_uri": "https://localhost:8080/"
        },
        "id": "AIyaKKPIOyk8",
        "outputId": "451fe9df-869e-4b97-a919-00050e3d1c53"
      },
      "execution_count": 41,
      "outputs": [
        {
          "output_type": "stream",
          "name": "stdout",
          "text": [
            "[9.9999994e-01 5.4768404e-20]\n",
            "[9.9999994e-01 2.6517051e-18]\n",
            "[9.9999994e-01 7.0044887e-17]\n",
            "[9.9999994e-01 1.9731665e-19]\n",
            "[9.9999994e-01 2.3751898e-31]\n",
            "[9.9999994e-01 5.7959410e-27]\n",
            "[9.9999994e-01 1.6191623e-26]\n",
            "[9.9999994e-01 6.1762176e-36]\n",
            "[1.000000e+00 1.399232e-35]\n",
            "[1.0000000e+00 2.5227131e-15]\n",
            "[9.9999994e-01 4.2790353e-30]\n",
            "[9.9999994e-01 3.3509791e-35]\n",
            "[9.999998e-01 1.526420e-07]\n",
            "[9.9999994e-01 2.9060684e-11]\n",
            "[9.9999994e-01 1.3518769e-31]\n",
            "[9.9999994e-01 2.6561447e-14]\n",
            "[9.9999994e-01 1.8879197e-14]\n",
            "[9.9999994e-01 8.1077087e-15]\n",
            "[1.000000e+00 2.988243e-13]\n",
            "[1. 0.]\n",
            "[9.9999994e-01 4.8481735e-22]\n",
            "[9.9999994e-01 5.5687269e-12]\n",
            "[9.9999994e-01 1.6448669e-19]\n",
            "[9.9999994e-01 2.5843235e-28]\n",
            "[9.9999994e-01 2.4617632e-32]\n",
            "[9.9999994e-01 1.1368647e-20]\n",
            "[9.9999994e-01 1.5334030e-24]\n",
            "[9.9999994e-01 3.3573427e-25]\n",
            "[1.0000000e+00 4.1980684e-21]\n",
            "[1.00000e+00 1.19627e-12]\n",
            "[9.9999994e-01 3.4660334e-16]\n",
            "[9.9999994e-01 4.5705145e-24]\n",
            "[9.9999994e-01 4.3779840e-24]\n",
            "[9.9999994e-01 2.8647642e-08]\n",
            "[9.9999994e-01 5.2914353e-12]\n",
            "[0.99999994 0.        ]\n",
            "[9.9999994e-01 3.0902447e-37]\n",
            "[9.9999994e-01 3.4321757e-11]\n",
            "[1.000000e+00 8.525549e-13]\n",
            "[1.000000e+00 3.355267e-11]\n",
            "[9.9999994e-01 5.9996762e-16]\n",
            "[9.9999994e-01 9.9925016e-13]\n",
            "[9.9999994e-01 3.3526891e-37]\n",
            "[9.9999994e-01 7.8026041e-32]\n",
            "[9.9999994e-01 1.1464332e-19]\n",
            "[9.9999994e-01 2.3429159e-19]\n",
            "[9.9999994e-01 2.0759942e-26]\n",
            "[9.9999994e-01 9.6181350e-27]\n",
            "[1.0000000e+00 2.5060888e-24]\n",
            "[1.00000000e+00 1.04394644e-20]\n",
            "[0.         0.99999994]\n",
            "[0.         0.99999994]\n",
            "[2.0530286e-27 9.9999994e-01]\n",
            "[4.1484637e-28 9.9999994e-01]\n",
            "[2.1754081e-18 9.9999994e-01]\n",
            "[1.8620936e-20 9.9999994e-01]\n",
            "[1.1204504e-16 9.9999994e-01]\n",
            "[1.3341466e-15 9.9999994e-01]\n",
            "[4.3637962e-16 1.0000000e+00]\n",
            "[4.9526445e-16 1.0000000e+00]\n",
            "[5.5488600e-30 9.9999994e-01]\n",
            "[2.2149943e-30 9.9999994e-01]\n",
            "[2.9634006e-31 9.9999994e-01]\n",
            "[1.02193394e-32 9.99999940e-01]\n",
            "[2.4871079e-09 9.9999994e-01]\n",
            "[5.3849330e-08 9.9999994e-01]\n",
            "[8.9351158e-11 9.9999994e-01]\n",
            "[4.5717058e-14 9.9999994e-01]\n",
            "[1.3035824e-06 9.9999869e-01]\n",
            "[1.5523671e-08 1.0000000e+00]\n",
            "[4.9827142e-10 9.9999994e-01]\n",
            "[1.9726492e-17 9.9999994e-01]\n",
            "[3.7766062e-17 9.9999994e-01]\n",
            "[1.4512906e-12 9.9999994e-01]\n",
            "[1.7815201e-11 9.9999994e-01]\n",
            "[3.9084697e-11 9.9999994e-01]\n",
            "[4.6797154e-12 9.9999994e-01]\n",
            "[5.1678340e-12 9.9999994e-01]\n",
            "[3.0519667e-10 1.0000000e+00]\n",
            "[2.370227e-11 1.000000e+00]\n",
            "[4.8883707e-18 9.9999994e-01]\n",
            "[2.6601041e-18 9.9999994e-01]\n",
            "[1.3376797e-07 9.9999982e-01]\n",
            "[3.0940620e-10 9.9999994e-01]\n",
            "[8.2520590e-10 9.9999994e-01]\n",
            "[4.1092185e-11 9.9999994e-01]\n",
            "[2.5036591e-11 9.9999994e-01]\n",
            "[7.9997084e-18 9.9999994e-01]\n",
            "[3.1616907e-13 1.0000000e+00]\n",
            "[3.7016293e-15 1.0000000e+00]\n",
            "[2.6746267e-16 9.9999994e-01]\n",
            "[7.2038172e-19 9.9999994e-01]\n",
            "[1.6413435e-20 9.9999994e-01]\n",
            "[1.0812459e-14 9.9999994e-01]\n",
            "[5.5965445e-14 9.9999994e-01]\n",
            "[2.9947321e-23 9.9999994e-01]\n",
            "[8.4034128e-25 9.9999994e-01]\n",
            "[1.2977724e-10 9.9999994e-01]\n",
            "[1.6159368e-09 1.0000000e+00]\n",
            "[4.7274047e-09 1.0000000e+00]\n"
          ]
        }
      ]
    },
    {
      "cell_type": "markdown",
      "source": [
        "Agora vizualizamos as previsões normalizadas."
      ],
      "metadata": {
        "id": "LT3JoYLRPLEM"
      }
    },
    {
      "cell_type": "code",
      "source": [
        "rounded_predictions = np.argmax(predictions, axis=-1)"
      ],
      "metadata": {
        "id": "_pQdT6RCO3Vc"
      },
      "execution_count": 42,
      "outputs": []
    },
    {
      "cell_type": "code",
      "source": [
        "for i in rounded_predictions:\n",
        "  print(i)"
      ],
      "metadata": {
        "colab": {
          "base_uri": "https://localhost:8080/"
        },
        "id": "TmyCwhmYO88k",
        "outputId": "52d27df2-1f2a-4ba6-a9be-fdd8bb2401cb"
      },
      "execution_count": 43,
      "outputs": [
        {
          "output_type": "stream",
          "name": "stdout",
          "text": [
            "0\n",
            "0\n",
            "0\n",
            "0\n",
            "0\n",
            "0\n",
            "0\n",
            "0\n",
            "0\n",
            "0\n",
            "0\n",
            "0\n",
            "0\n",
            "0\n",
            "0\n",
            "0\n",
            "0\n",
            "0\n",
            "0\n",
            "0\n",
            "0\n",
            "0\n",
            "0\n",
            "0\n",
            "0\n",
            "0\n",
            "0\n",
            "0\n",
            "0\n",
            "0\n",
            "0\n",
            "0\n",
            "0\n",
            "0\n",
            "0\n",
            "0\n",
            "0\n",
            "0\n",
            "0\n",
            "0\n",
            "0\n",
            "0\n",
            "0\n",
            "0\n",
            "0\n",
            "0\n",
            "0\n",
            "0\n",
            "0\n",
            "0\n",
            "1\n",
            "1\n",
            "1\n",
            "1\n",
            "1\n",
            "1\n",
            "1\n",
            "1\n",
            "1\n",
            "1\n",
            "1\n",
            "1\n",
            "1\n",
            "1\n",
            "1\n",
            "1\n",
            "1\n",
            "1\n",
            "1\n",
            "1\n",
            "1\n",
            "1\n",
            "1\n",
            "1\n",
            "1\n",
            "1\n",
            "1\n",
            "1\n",
            "1\n",
            "1\n",
            "1\n",
            "1\n",
            "1\n",
            "1\n",
            "1\n",
            "1\n",
            "1\n",
            "1\n",
            "1\n",
            "1\n",
            "1\n",
            "1\n",
            "1\n",
            "1\n",
            "1\n",
            "1\n",
            "1\n",
            "1\n",
            "1\n",
            "1\n"
          ]
        }
      ]
    },
    {
      "cell_type": "markdown",
      "source": [
        "Iremos construir uma matriz de confusão para analisar os dados"
      ],
      "metadata": {
        "id": "_HWxLZRTPTsc"
      }
    },
    {
      "cell_type": "code",
      "source": [
        "cm = confusion_matrix(y_true=test_batches.classes, y_pred=np.argmax(predictions, axis=-1))"
      ],
      "metadata": {
        "id": "8b-ICbAFoBSP"
      },
      "execution_count": 44,
      "outputs": []
    },
    {
      "cell_type": "code",
      "source": [
        "test_batches.class_indices"
      ],
      "metadata": {
        "colab": {
          "base_uri": "https://localhost:8080/"
        },
        "id": "7rKAlriqoDif",
        "outputId": "3b711d99-6751-4120-ae35-550a9395033e"
      },
      "execution_count": 45,
      "outputs": [
        {
          "output_type": "execute_result",
          "data": {
            "text/plain": [
              "{'attack': 0, 'real': 1}"
            ]
          },
          "metadata": {},
          "execution_count": 45
        }
      ]
    },
    {
      "cell_type": "code",
      "source": [
        "def plot_confusion_matrix(cm, classes,\n",
        "                          normalize=False,\n",
        "                          title='Confusion matrix',\n",
        "                          cmap=plt.cm.Blues):\n",
        "    \"\"\"\n",
        "    This function prints and plots the confusion matrix.\n",
        "    Normalization can be applied by setting `normalize=True`.\n",
        "    \"\"\"\n",
        "    plt.imshow(cm, interpolation='nearest', cmap=cmap)\n",
        "    plt.title(title)\n",
        "    plt.colorbar()\n",
        "    tick_marks = np.arange(len(classes))\n",
        "    plt.xticks(tick_marks, classes, rotation=45)\n",
        "    plt.yticks(tick_marks, classes)\n",
        "\n",
        "    if normalize:\n",
        "        cm = cm.astype('float') / cm.sum(axis=1)[:, np.newaxis]\n",
        "        print(\"Normalized confusion matrix\")\n",
        "    else:\n",
        "        print('Confusion matrix, without normalization')\n",
        "\n",
        "    print(cm)\n",
        "\n",
        "    thresh = cm.max() / 2.\n",
        "    for i, j in itertools.product(range(cm.shape[0]), range(cm.shape[1])):\n",
        "        plt.text(j, i, cm[i, j],\n",
        "                 horizontalalignment=\"center\",\n",
        "                 color=\"white\" if cm[i, j] > thresh else \"black\")\n",
        "\n",
        "    plt.tight_layout()\n",
        "    plt.ylabel('True label')\n",
        "    plt.xlabel('Predicted label')"
      ],
      "metadata": {
        "id": "NCHz7WWpocIP"
      },
      "execution_count": 46,
      "outputs": []
    },
    {
      "cell_type": "markdown",
      "source": [
        "Pelo que entendi acertou todos os testes."
      ],
      "metadata": {
        "id": "JqJjNapw1Iy8"
      }
    },
    {
      "cell_type": "code",
      "source": [
        "cm_plot_labels = ['attack', 'real']\n",
        "plot_confusion_matrix(cm=cm, classes=cm_plot_labels, title='Confusion Matrix')"
      ],
      "metadata": {
        "colab": {
          "base_uri": "https://localhost:8080/",
          "height": 365
        },
        "id": "pvBhfcOMoFx-",
        "outputId": "0ac485bb-f0a0-41ab-dc28-bdd39160b4f3"
      },
      "execution_count": 47,
      "outputs": [
        {
          "output_type": "stream",
          "name": "stdout",
          "text": [
            "Confusion matrix, without normalization\n",
            "[[50  0]\n",
            " [ 0 50]]\n"
          ]
        },
        {
          "output_type": "display_data",
          "data": {
            "text/plain": [
              "<Figure size 432x288 with 2 Axes>"
            ],
            "image/png": "[encoded data removed]"
          },
          "metadata": {
            "needs_background": "light"
          }
        }
      ]
    }
  ],
  "metadata": {
    "colab": {
      "provenance": [],
      "mount_file_id": "1CNBW52xeNG49F4fG8fBSTXle9fuCf94t",
      "authorship_tag": "ABX9TyNZoly1Ytk1sdCbogLlMYP3",
      "include_colab_link": true
    },
    "kernelspec": {
      "display_name": "Python 3",
      "name": "python3"
    },
    "language_info": {
      "name": "python"
    }
  },
  "nbformat": 4,
  "nbformat_minor": 0
}